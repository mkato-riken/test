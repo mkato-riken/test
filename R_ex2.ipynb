{
  "nbformat": 4,
  "nbformat_minor": 0,
  "metadata": {
    "colab": {
      "name": "R-ex2.ipynb",
      "provenance": [],
      "collapsed_sections": []
    },
    "kernelspec": {
      "display_name": "R",
      "language": "R",
      "name": "ir"
    },
    "language_info": {
      "codemirror_mode": "r",
      "file_extension": ".r",
      "mimetype": "text/x-r-source",
      "name": "R",
      "pygments_lexer": "r",
      "version": "4.0.2"
    }
  },
  "cells": [
    {
      "cell_type": "markdown",
      "metadata": {
        "id": "5OHmhouxGiwP"
      },
      "source": [
        "# データ分布の形を捉える（R編）\n",
        "サンプルデータを読み込んで、散布図を書いてみよう！</br>\n",
        "（『[RとPythonで学ぶ実践的データサイエンス&機械学習]( https://www.amazon.co.jp/dp/429710508X/ref=cm_sw_em_r_mt_dp_hXISFbNZQVC16)』より抜粋　P.107~109）\n",
        "（Pythonコードサンプルはなし）</br>"
      ]
    },
    {
      "cell_type": "markdown",
      "metadata": {
        "id": "BkVib8QltNi3"
      },
      "source": [
        "**Step1**　CSVファイルを読み込んでデータフレームに格納</br>\n",
        "ファイルの場所をかく"
      ]
    },
    {
      "cell_type": "code",
      "metadata": {
        "id": "VSCJw-KB8nSc"
      },
      "source": [
        ""
      ],
      "execution_count": null,
      "outputs": []
    },
    {
      "cell_type": "markdown",
      "metadata": {
        "id": "x5CQ8dl1tj9O"
      },
      "source": [
        "**Step2**　データの構造と項目の一覧を確認する\n"
      ]
    },
    {
      "cell_type": "code",
      "metadata": {
        "id": "llMfqafL8nyZ"
      },
      "source": [
        ""
      ],
      "execution_count": null,
      "outputs": []
    },
    {
      "cell_type": "markdown",
      "metadata": {
        "id": "Wsl5yMoNtzMV"
      },
      "source": [
        "**Step3**　データフレームの先頭を表示\n",
        "\n"
      ]
    },
    {
      "cell_type": "code",
      "metadata": {
        "id": "zBMVeRx38oOS"
      },
      "source": [
        ""
      ],
      "execution_count": null,
      "outputs": []
    },
    {
      "cell_type": "markdown",
      "metadata": {
        "id": "e-y9oeoOt7hE"
      },
      "source": [
        "**Step4**　身長のヒストグラムを描く"
      ]
    },
    {
      "cell_type": "code",
      "metadata": {
        "id": "UGieYPRc8onJ"
      },
      "source": [
        ""
      ],
      "execution_count": null,
      "outputs": []
    },
    {
      "cell_type": "markdown",
      "metadata": {
        "id": "mUw2sb2Uuf7P"
      },
      "source": [
        "**Step5**　ggplot2ライブラリを使ってヒストグラムと密度プロットを描く"
      ]
    },
    {
      "cell_type": "code",
      "metadata": {
        "id": "ezMyKJiO8pDY"
      },
      "source": [
        ""
      ],
      "execution_count": null,
      "outputs": []
    },
    {
      "cell_type": "markdown",
      "metadata": {
        "id": "B0Tz-H4AwJ-2"
      },
      "source": [
        "**Step6**　ボックスプロットを描く"
      ]
    },
    {
      "cell_type": "code",
      "metadata": {
        "id": "x78WsEZg8pgy"
      },
      "source": [
        ""
      ],
      "execution_count": null,
      "outputs": []
    }
  ]
}