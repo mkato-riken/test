{
  "nbformat": 4,
  "nbformat_minor": 0,
  "metadata": {
    "colab": {
      "name": "R-ex1.ipynb",
      "provenance": [],
      "collapsed_sections": []
    },
    "kernelspec": {
      "name": "ir",
      "display_name": "R"
    },
    "language_info": {
      "codemirror_mode": {
        "name": "ipython",
        "version": 3
      },
      "file_extension": ".py",
      "mimetype": "text/x-python",
      "name": "python",
      "nbconvert_exporter": "python",
      "pygments_lexer": "ipython3",
      "version": "3.6.1"
    }
  },
  "cells": [
    {
      "cell_type": "markdown",
      "metadata": {
        "id": "3ny6dmUznpwA"
      },
      "source": [
        "# 簡単な分析の実行例（R編）\n",
        "サンプルデータを読み込んで、散布図を書いてみよう！</br>\n",
        "（『[RとPythonで学ぶ実践的データサイエンス&機械学習]( https://www.amazon.co.jp/dp/429710508X/ref=cm_sw_em_r_mt_dp_hXISFbNZQVC16)』より抜粋 p.94）"
      ]
    },
    {
      "cell_type": "markdown",
      "metadata": {
        "id": "9BTr350SoHqt"
      },
      "source": [
        "**Step1**　必要なライブラリ(ggplot2)を読み込む"
      ]
    },
    {
      "cell_type": "code",
      "metadata": {
        "id": "SZ75ZhGb9DiM"
      },
      "source": [
        ""
      ],
      "execution_count": null,
      "outputs": []
    },
    {
      "cell_type": "markdown",
      "metadata": {
        "id": "lYKRqMkwobvY"
      },
      "source": [
        "**Step2**　CSVファイルを読み込んでデータフレームに格納</br>\n",
        "（ファイルの場所をかく）"
      ]
    },
    {
      "cell_type": "code",
      "metadata": {
        "id": "1seaIRWd9EUm"
      },
      "source": [
        ""
      ],
      "execution_count": null,
      "outputs": []
    },
    {
      "cell_type": "markdown",
      "metadata": {
        "id": "WSNz0ZZjos__"
      },
      "source": [
        "**Step3**　先頭の６行を確認"
      ]
    },
    {
      "cell_type": "code",
      "metadata": {
        "id": "u4Wvo_qK9E8c"
      },
      "source": [
        ""
      ],
      "execution_count": null,
      "outputs": []
    },
    {
      "cell_type": "markdown",
      "metadata": {
        "id": "LmEmlTLipiIu"
      },
      "source": [
        "**Step４**　行数、列数を確認"
      ]
    },
    {
      "cell_type": "code",
      "metadata": {
        "id": "FWPBkrEa9Fmk"
      },
      "source": [
        ""
      ],
      "execution_count": null,
      "outputs": []
    },
    {
      "cell_type": "markdown",
      "metadata": {
        "id": "7DzF_-vmqBKE"
      },
      "source": [
        "**Step5**　平均値、最大値、最小値などを確認"
      ]
    },
    {
      "cell_type": "code",
      "metadata": {
        "id": "8Rao8ruu9GOU"
      },
      "source": [
        ""
      ],
      "execution_count": null,
      "outputs": []
    },
    {
      "cell_type": "markdown",
      "metadata": {
        "id": "qiH_whfXqIQ0"
      },
      "source": [
        "**Step6**　varAとvarBをそれぞれ２乗して足した値が１未満かどうかを判定（判定結果を id　に入れる）"
      ]
    },
    {
      "cell_type": "code",
      "metadata": {
        "id": "73k2RYa09G4O"
      },
      "source": [
        ""
      ],
      "execution_count": null,
      "outputs": []
    },
    {
      "cell_type": "markdown",
      "metadata": {
        "id": "1yTwcfP3qMQc"
      },
      "source": [
        "**Step7**　IDという名称の列を作り \"steelblue\"という色の名称を入れる"
      ]
    },
    {
      "cell_type": "code",
      "metadata": {
        "id": "tdau248_9Hbr"
      },
      "source": [
        ""
      ],
      "execution_count": null,
      "outputs": []
    },
    {
      "cell_type": "markdown",
      "metadata": {
        "id": "_jUicY-gqSdd"
      },
      "source": [
        "**Step8**　idの値がTRUEであるケース（行）だけ、IDの値を\"darkblue\"に置き換える"
      ]
    },
    {
      "cell_type": "code",
      "metadata": {
        "id": "da-PGfms9H-g"
      },
      "source": [
        ""
      ],
      "execution_count": null,
      "outputs": []
    },
    {
      "cell_type": "markdown",
      "metadata": {
        "id": "J71iZQYjqg2Y"
      },
      "source": [
        "**Step9**　IDの値について頻度を計算"
      ]
    },
    {
      "cell_type": "code",
      "metadata": {
        "id": "v1CsUczl9Iga"
      },
      "source": [
        ""
      ],
      "execution_count": null,
      "outputs": []
    },
    {
      "cell_type": "markdown",
      "metadata": {
        "id": "RVq58URWqmfj"
      },
      "source": [
        "**Step10**　散布図を描く（横軸に用いる変数：varA　縦軸に用いる変数：varB　色の名称：ID)"
      ]
    },
    {
      "cell_type": "code",
      "metadata": {
        "id": "f5NGEdFc9I_D"
      },
      "source": [
        ""
      ],
      "execution_count": null,
      "outputs": []
    }
  ]
}