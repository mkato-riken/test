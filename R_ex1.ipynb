{
  "nbformat": 4,
  "nbformat_minor": 0,
  "metadata": {
    "colab": {
      "name": "R_ex1_2021.ipynb",
      "provenance": [],
      "collapsed_sections": []
    },
    "kernelspec": {
      "display_name": "R",
      "language": "R",
      "name": "ir"
    },
    "language_info": {
      "codemirror_mode": "r",
      "file_extension": ".r",
      "mimetype": "text/x-r-source",
      "name": "R",
      "pygments_lexer": "r",
      "version": "4.1.1"
    }
  },
  "cells": [
    {
      "cell_type": "markdown",
      "metadata": {
        "id": "3ny6dmUznpwA"
      },
      "source": [
        "# 簡単な分析の実行例（R編）\n",
        "サンプルデータを読み込んで、散布図を書いてみよう！</br>\n",
        "（『[RとPythonで学ぶ実践的データサイエンス&機械学習]( https://www.amazon.co.jp/dp/429710508X/ref=cm_sw_em_r_mt_dp_hXISFbNZQVC16)』より抜粋 p.94）"
      ]
    },
    {
      "cell_type": "markdown",
      "metadata": {
        "id": "9BTr350SoHqt"
      },
      "source": [
        "**Step1**　ライブラリ　ggplot2 を読み込む\n",
        "<br>\n",
        "ヒント　library()でライブラリの読み込みができます"
      ]
    },
    {
      "cell_type": "code",
      "metadata": {
        "id": "SZ75ZhGb9DiM"
      },
      "source": [
        ""
      ],
      "execution_count": null,
      "outputs": []
    },
    {
      "cell_type": "markdown",
      "metadata": {
        "id": "lYKRqMkwobvY"
      },
      "source": [
        "**Step2**　CSVファイルを読み込んでデータフレーム(DF)に格納\n",
        "<br>\n",
        "ヒント　read.table（\"httpsリンク\", sep=\",\", header = T）でカンマ区切りのヘッダー付きファイルを読み込みます"
      ]
    },
    {
      "cell_type": "code",
      "metadata": {
        "id": "1seaIRWd9EUm"
      },
      "source": [
        ""
      ],
      "execution_count": null,
      "outputs": []
    },
    {
      "cell_type": "markdown",
      "metadata": {
        "id": "WSNz0ZZjos__"
      },
      "source": [
        "**Step3**　先頭の６行を確認"
      ]
    },
    {
      "cell_type": "code",
      "metadata": {
        "id": "u4Wvo_qK9E8c"
      },
      "source": [
        ""
      ],
      "execution_count": null,
      "outputs": []
    },
    {
      "cell_type": "markdown",
      "metadata": {
        "id": "LmEmlTLipiIu"
      },
      "source": [
        "**Step４**　行数、列数を確認\n",
        "<br>\n",
        "str関数で行数列数が確認できます"
      ]
    },
    {
      "cell_type": "code",
      "metadata": {
        "id": "FWPBkrEa9Fmk"
      },
      "source": [
        ""
      ],
      "execution_count": null,
      "outputs": []
    },
    {
      "cell_type": "markdown",
      "metadata": {
        "id": "7DzF_-vmqBKE"
      },
      "source": [
        "**Step5**　平均値、中央値、最大値、最小値を確認\n",
        "<br>\n",
        "ヒント　summary関数を使ってみましょう"
      ]
    },
    {
      "cell_type": "code",
      "metadata": {
        "id": "8Rao8ruu9GOU"
      },
      "source": [
        ""
      ],
      "execution_count": null,
      "outputs": []
    },
    {
      "cell_type": "markdown",
      "metadata": {
        "id": "qiH_whfXqIQ0"
      },
      "source": [
        "**Step6**　varAとvarBをそれぞれ２乗して足した値が１未満かどうかを判定\n",
        "<br>\n",
        "（判定結果を id　に格納する）"
      ]
    },
    {
      "cell_type": "code",
      "metadata": {
        "id": "73k2RYa09G4O"
      },
      "source": [
        ""
      ],
      "execution_count": null,
      "outputs": []
    }
  ]
}