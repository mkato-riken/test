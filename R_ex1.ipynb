{
  "cells": [
    {
      "cell_type": "markdown",
      "metadata": {
        "id": "3ny6dmUznpwA"
      },
      "source": [
        "# 簡単な分析の実行例（R編）\n",
        "サンプルデータを読み込んで新しいデータを格納してみよう！</br>\n",
        "（『[RとPythonで学ぶ実践的データサイエンス&機械学習]( https://www.amazon.co.jp/dp/429710508X/ref=cm_sw_em_r_mt_dp_hXISFbNZQVC16)』より抜粋）\n",
        "<br>\n",
        "講義資料 p32-37 プログラミングの基礎知識　R　参照"
      ]
    },
    {
      "cell_type": "markdown",
      "metadata": {
        "id": "9BTr350SoHqt"
      },
      "source": [
        "**Step1**　ライブラリ　ggplot2 を読み込む（ライブラリの読み込みの練習です）\n",
        "<br>\n",
        "ヒント　library()でライブラリの読み込みができます"
      ]
    },
    {
      "cell_type": "code",
      "execution_count": null,
      "metadata": {
        "id": "SZ75ZhGb9DiM"
      },
      "outputs": [],
      "source": []
    },
    {
      "cell_type": "markdown",
      "metadata": {
        "id": "lYKRqMkwobvY"
      },
      "source": [
        "**Step2**　CSVファイルを読み込んでデータフレーム(DF)に格納\n",
        "<br>\n",
        "ヒント　read.table（\"httpsリンク\", sep=\",\", header = T）でカンマ区切りのヘッダー付きファイルを読み込みます(講義資料p33)\n"
      ]
    },
    {
      "cell_type": "code",
      "execution_count": null,
      "metadata": {
        "id": "1seaIRWd9EUm"
      },
      "outputs": [],
      "source": []
    },
    {
      "cell_type": "markdown",
      "metadata": {
        "id": "WSNz0ZZjos__"
      },
      "source": [
        "**Step3**　先頭の６行を確認\n",
        "<br>\n",
        "ヒント　データフレーム名[行,列]で表示できます（講義資料p34）"
      ]
    },
    {
      "cell_type": "code",
      "execution_count": null,
      "metadata": {
        "id": "u4Wvo_qK9E8c"
      },
      "outputs": [],
      "source": []
    },
    {
      "cell_type": "markdown",
      "metadata": {
        "id": "LmEmlTLipiIu"
      },
      "source": [
        "**Step４**　データ型と行数、列数を確認\n",
        "<br>\n",
        "ヒント　class()でデータ型、dim()で行数列数が確認できます(講義資料p30、p33)"
      ]
    },
    {
      "cell_type": "code",
      "execution_count": null,
      "metadata": {
        "id": "FWPBkrEa9Fmk"
      },
      "outputs": [],
      "source": []
    },
    {
      "cell_type": "markdown",
      "metadata": {
        "id": "7DzF_-vmqBKE"
      },
      "source": [
        "**Step5**　列ごとの最大値、最小値を確認\n",
        "<br>\n",
        "ヒント　関数()で算出できます(講義資料p34)\n"
      ]
    },
    {
      "cell_type": "code",
      "execution_count": null,
      "metadata": {
        "id": "8Rao8ruu9GOU"
      },
      "outputs": [],
      "source": []
    },
    {
      "cell_type": "markdown",
      "metadata": {
        "id": "qiH_whfXqIQ0"
      },
      "source": [
        "**Step6**　varAとvarBをそれぞれ２乗して足した値が１未満かどうかを判定\n",
        "<br>\n",
        "（判定結果を id　に格納する）\n",
        "<br>\n",
        "ヒント　列の値どうしで演算し、結果を新しい列に格納します（講義資料p29、p34）"
      ]
    },
    {
      "cell_type": "code",
      "execution_count": null,
      "metadata": {
        "id": "73k2RYa09G4O"
      },
      "outputs": [],
      "source": []
    }
  ],
  "metadata": {
    "colab": {
      "collapsed_sections": [],
      "name": "R_ex1_2021.ipynb",
      "provenance": []
    },
    "kernelspec": {
      "display_name": "R",
      "language": "R",
      "name": "ir"
    },
    "language_info": {
      "codemirror_mode": "r",
      "file_extension": ".r",
      "mimetype": "text/x-r-source",
      "name": "R",
      "pygments_lexer": "r",
      "version": "4.1.1"
    }
  },
  "nbformat": 4,
  "nbformat_minor": 0
}
