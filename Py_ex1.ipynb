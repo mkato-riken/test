{
 "cells": [
  {
   "cell_type": "markdown",
   "metadata": {
    "id": "tj_v6k10-jnL"
   },
   "source": [
    "# 簡単な分析の実行例（Python編）\n",
    "サンプルデータを読み込んで、散布図を書いてみよう！</br>\n",
    "（『[RとPythonで学ぶ実践的データサイエンス&機械学習]( https://www.amazon.co.jp/dp/429710508X/ref=cm_sw_em_r_mt_dp_hXISFbNZQVC16)』より抜粋 p.95）\n"
   ]
  },
  {
   "cell_type": "markdown",
   "metadata": {
    "id": "ehRoNBAo4ioZ"
   },
   "source": [
    "**Step1**　必要なライブラリを読み込む"
   ]
  },
  {
   "cell_type": "markdown",
   "metadata": {
    "id": "KRMcSA4DPk_8"
   },
   "source": [
    "ヒント import （ライブラリ名）as で読み込めます\n",
    "<br>\n",
    "pandas　を　pd　として　matplotlib.pyplotをpltとして読み込んでみましょう"
   ]
  },
  {
   "cell_type": "code",
   "execution_count": null,
   "metadata": {
    "id": "2E2kaWTGP58E"
   },
   "outputs": [],
   "source": []
  },
  {
   "cell_type": "markdown",
   "metadata": {
    "id": "8FiCuEZj4R5i"
   },
   "source": [
    "**Step2**　CSVファイルを読み込んでデータフレームに格納"
   ]
  },
  {
   "cell_type": "markdown",
   "metadata": {
    "id": "Y2hHvEotQNQQ"
   },
   "source": [
    "ヒント　pd.read_csv（\"httpsリンク\", sep=\",\"）でカンマ区切りのファイルを読み込めます"
   ]
  },
  {
   "cell_type": "code",
   "execution_count": null,
   "metadata": {
    "id": "4utR-Syza2LX"
   },
   "outputs": [],
   "source": []
  },
  {
   "cell_type": "markdown",
   "metadata": {
    "id": "TfGORgjO44o-"
   },
   "source": [
    "**Step3**　先頭の６行を確認"
   ]
  },
  {
   "cell_type": "markdown",
   "metadata": {
    "id": "Qs-tXW-PQVhN"
   },
   "source": [
    "ヒント　データフレーム名.head(行数)で表示できます"
   ]
  },
  {
   "cell_type": "code",
   "execution_count": null,
   "metadata": {
    "id": "K7jZHCJRa26o"
   },
   "outputs": [],
   "source": []
  },
  {
   "cell_type": "markdown",
   "metadata": {
    "id": "uCpIYpXd5IK2"
   },
   "source": [
    "**Step４**　データ型と行数、列数を確認"
   ]
  },
  {
   "cell_type": "markdown",
   "metadata": {
    "id": "V0ZliyLDQaA-"
   },
   "source": [
    "ヒント　type()でデータ型　.shapeで行列数が確認できます"
   ]
  },
  {
   "cell_type": "code",
   "execution_count": null,
   "metadata": {
    "id": "RY0DjXYTa3cL"
   },
   "outputs": [],
   "source": []
  },
  {
   "cell_type": "markdown",
   "metadata": {
    "id": "ybEqDo175iw7"
   },
   "source": [
    "**Step5**　平均値、最大値、最小値などを確認"
   ]
  },
  {
   "cell_type": "markdown",
   "metadata": {
    "id": "CNDkIRRHQeIe"
   },
   "source": [
    "ヒント　.describe()を使ってみましょう"
   ]
  },
  {
   "cell_type": "code",
   "execution_count": null,
   "metadata": {
    "id": "8J1ys_Hta344"
   },
   "outputs": [],
   "source": []
  },
  {
   "cell_type": "markdown",
   "metadata": {
    "id": "aa62724_516_"
   },
   "source": [
    "**Step6**　varAとvarBをそれぞれ２乗して足した値が１未満かどうかを判定（判定結果を id　に入れる）"
   ]
  },
  {
   "cell_type": "code",
   "execution_count": null,
   "metadata": {
    "id": "jl9U2JOCa4XA"
   },
   "outputs": [],
   "source": []
  }
 ],
 "metadata": {
  "colab": {
   "collapsed_sections": [],
   "name": "Py-ex1_2021.ipynb のコピー",
   "provenance": []
  },
  "kernelspec": {
   "display_name": "Python 3",
   "language": "python",
   "name": "python3"
  },
  "language_info": {
   "codemirror_mode": {
    "name": "ipython",
    "version": 3
   },
   "file_extension": ".py",
   "mimetype": "text/x-python",
   "name": "python",
   "nbconvert_exporter": "python",
   "pygments_lexer": "ipython3",
   "version": "3.9.2"
  }
 },
 "nbformat": 4,
 "nbformat_minor": 4
}
