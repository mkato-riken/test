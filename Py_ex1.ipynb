{
  "nbformat": 4,
  "nbformat_minor": 0,
  "metadata": {
    "colab": {
      "name": "Py-ex1.ipynb のコピー",
      "provenance": [],
      "collapsed_sections": []
    },
    "kernelspec": {
      "name": "python3",
      "display_name": "Python 3"
    }
  },
  "cells": [
    {
      "cell_type": "markdown",
      "metadata": {
        "id": "tj_v6k10-jnL"
      },
      "source": [
        "# 簡単な分析の実行例（Python編）\n",
        "サンプルデータを読み込んで、散布図を書いてみよう！</br>\n",
        "（『[RとPythonで学ぶ実践的データサイエンス&機械学習]( https://www.amazon.co.jp/dp/429710508X/ref=cm_sw_em_r_mt_dp_hXISFbNZQVC16)』より抜粋 p.95）\n"
      ]
    },
    {
      "cell_type": "markdown",
      "metadata": {
        "id": "ehRoNBAo4ioZ"
      },
      "source": [
        "**Step1**　必要なライブラリを読み込む"
      ]
    },
    {
      "cell_type": "code",
      "metadata": {
        "id": "mXKlf4nHa1xh"
      },
      "source": [
        ""
      ],
      "execution_count": null,
      "outputs": []
    },
    {
      "cell_type": "markdown",
      "metadata": {
        "id": "8FiCuEZj4R5i"
      },
      "source": [
        "**Step2**　CSVファイルを読み込んでデータフレームに格納"
      ]
    },
    {
      "cell_type": "code",
      "metadata": {
        "id": "4utR-Syza2LX"
      },
      "source": [
        ""
      ],
      "execution_count": null,
      "outputs": []
    },
    {
      "cell_type": "markdown",
      "metadata": {
        "id": "TfGORgjO44o-"
      },
      "source": [
        "**Step3**　先頭の６行を確認"
      ]
    },
    {
      "cell_type": "code",
      "metadata": {
        "id": "K7jZHCJRa26o"
      },
      "source": [
        ""
      ],
      "execution_count": null,
      "outputs": []
    },
    {
      "cell_type": "markdown",
      "metadata": {
        "id": "uCpIYpXd5IK2"
      },
      "source": [
        "**Step４**　データ型と行数、列数を確認"
      ]
    },
    {
      "cell_type": "code",
      "metadata": {
        "id": "RY0DjXYTa3cL"
      },
      "source": [
        ""
      ],
      "execution_count": null,
      "outputs": []
    },
    {
      "cell_type": "markdown",
      "metadata": {
        "id": "ybEqDo175iw7"
      },
      "source": [
        "**Step5**　平均値、最大値、最小値などを確認"
      ]
    },
    {
      "cell_type": "code",
      "metadata": {
        "id": "8J1ys_Hta344"
      },
      "source": [
        ""
      ],
      "execution_count": null,
      "outputs": []
    },
    {
      "cell_type": "markdown",
      "metadata": {
        "id": "aa62724_516_"
      },
      "source": [
        "**Step6**　varAとvarBをそれぞれ２乗して足した値が１未満かどうかを判定（判定結果を id　に入れる）"
      ]
    },
    {
      "cell_type": "code",
      "metadata": {
        "id": "jl9U2JOCa4XA"
      },
      "source": [
        ""
      ],
      "execution_count": null,
      "outputs": []
    },
    {
      "cell_type": "markdown",
      "metadata": {
        "id": "L0IerIWy6P4G"
      },
      "source": [
        "**Step7**　IDという名称の列を作り \"steelblue\"という色の名称を入れる"
      ]
    },
    {
      "cell_type": "code",
      "metadata": {
        "id": "Sx2U56HXa5A5"
      },
      "source": [
        ""
      ],
      "execution_count": null,
      "outputs": []
    },
    {
      "cell_type": "markdown",
      "metadata": {
        "id": "v9c2EyJy6wQk"
      },
      "source": [
        "**Step8**　idの値がTRUEであるケース（行）だけ、IDの値を\"darkblue\"に置き換える"
      ]
    },
    {
      "cell_type": "code",
      "metadata": {
        "id": "EshQ981Ga5Yo"
      },
      "source": [
        ""
      ],
      "execution_count": null,
      "outputs": []
    },
    {
      "cell_type": "markdown",
      "metadata": {
        "id": "rTnF57-t7RNx"
      },
      "source": [
        "**Step9**　IDの値について頻度を計算"
      ]
    },
    {
      "cell_type": "code",
      "metadata": {
        "id": "pftM1u9Fa5x2"
      },
      "source": [
        ""
      ],
      "execution_count": null,
      "outputs": []
    },
    {
      "cell_type": "markdown",
      "metadata": {
        "id": "nOZUR0WY7cak"
      },
      "source": [
        "**Step10**　散布図を描く（横軸に用いる変数：varA　縦軸に用いる変数：varB　色の名称：ID)"
      ]
    },
    {
      "cell_type": "code",
      "metadata": {
        "id": "JI6pp406a6MW"
      },
      "source": [
        ""
      ],
      "execution_count": null,
      "outputs": []
    }
  ]
}