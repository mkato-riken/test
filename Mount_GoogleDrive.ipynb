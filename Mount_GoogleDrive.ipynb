{
  "nbformat": 4,
  "nbformat_minor": 0,
  "metadata": {
    "colab": {
      "name": "Mount_GoogleDrive.ipynb",
      "provenance": [],
      "collapsed_sections": []
    },
    "kernelspec": {
      "name": "python3",
      "display_name": "Python 3"
    }
  },
  "cells": [
    {
      "cell_type": "markdown",
      "metadata": {
        "id": "6a5TEi_1pOVf"
      },
      "source": [
        "##1.GoogleColabとGoogleDriveをマウントする"
      ]
    },
    {
      "cell_type": "code",
      "metadata": {
        "colab": {
          "base_uri": "https://localhost:8080/"
        },
        "id": "HBErhp8Ko1UQ",
        "outputId": "04978812-664a-4931-e1ba-6e5b2e40c7f3"
      },
      "source": [
        "from google.colab import drive\n",
        "drive.mount('/content/drive')"
      ],
      "execution_count": 1,
      "outputs": [
        {
          "output_type": "stream",
          "text": [
            "Mounted at /content/drive\n"
          ],
          "name": "stdout"
        }
      ]
    },
    {
      "cell_type": "markdown",
      "metadata": {
        "id": "jXhOGfhIplEB"
      },
      "source": [
        "ディレクトリ内のファイルを表示する"
      ]
    },
    {
      "cell_type": "code",
      "metadata": {
        "colab": {
          "base_uri": "https://localhost:8080/"
        },
        "id": "Xnwtddf1o801",
        "outputId": "76952246-d749-4662-9b2b-65150b458884"
      },
      "source": [
        "ls"
      ],
      "execution_count": 2,
      "outputs": [
        {
          "output_type": "stream",
          "text": [
            "\u001b[0m\u001b[01;34mdrive\u001b[0m/  \u001b[01;34msample_data\u001b[0m/\n"
          ],
          "name": "stdout"
        }
      ]
    },
    {
      "cell_type": "markdown",
      "metadata": {
        "id": "ZGXsWvDNpvTV"
      },
      "source": [
        "GoogleColabの保存先ディレクトリに移動する"
      ]
    },
    {
      "cell_type": "code",
      "metadata": {
        "colab": {
          "base_uri": "https://localhost:8080/"
        },
        "id": "lNXsTNKGpEQl",
        "outputId": "5602090b-c7fc-49a9-eaf6-583f6203cbe5"
      },
      "source": [
        "cd ./drive/MyDrive/Colab\\ Notebooks/"
      ],
      "execution_count": 3,
      "outputs": [
        {
          "output_type": "stream",
          "text": [
            "/content/drive/MyDrive/Colab Notebooks\n"
          ],
          "name": "stdout"
        }
      ]
    },
    {
      "cell_type": "markdown",
      "metadata": {
        "id": "yeMkY9ufpyF2"
      },
      "source": [
        "ディレクトリ内のファイルを表示して移動したことを確認する\n"
      ]
    },
    {
      "cell_type": "code",
      "metadata": {
        "colab": {
          "base_uri": "https://localhost:8080/"
        },
        "id": "K9nol6jKpXkC",
        "outputId": "83d5ccfc-cb11-4ff6-e944-713acd3cc383"
      },
      "source": [
        "ls"
      ],
      "execution_count": 5,
      "outputs": [
        {
          "output_type": "stream",
          "text": [
            "'autoEDA_comparison.ipynb のコピー'  'R-ex1_answer (3).ipynb'\n",
            " Machine_learning_sv.html            'R-ex1_answer (4).ipynb'\n",
            " Machine_learning_sv.ipynb            R-ex1_answer.ipynb\n",
            "'Mount_GoogleDrive (1).ipynb'        'R-ex1.ipynb のコピー'\n",
            "'Mount_GoogleDrive??.ipynb'           R-ex2.ipynb\n",
            " Py-ex1_answer.html                   Untitled0.ipynb\n",
            " Py-ex1_answer.ipynb                 'Untitled (1)'\n",
            " Py-ex1.ipynb                         Untitled1.ipynb\n",
            "'Py-ex1.ipynb のコピー'               Untitled2.ipynb\n",
            "'Py-ex1.ipynb のコピー (1)'           Untitled3.ipynb\n",
            "'Py-ex1.ipynb のコピー (2)'           Untitled4.ipynb\n",
            "'R-ex1_answer (1).ipynb'              Untitled5.ipynb\n",
            "'R-ex1_answer (2).ipynb'\n"
          ],
          "name": "stdout"
        }
      ]
    },
    {
      "cell_type": "markdown",
      "metadata": {
        "id": "7N30fZY4qD0i"
      },
      "source": [
        "##2.Google Driveに保存したjupyter notebookをhtmlに変換する\n",
        "「Machine_learning_sv.jpynb」の部分は任意のファイル名を指定する"
      ]
    },
    {
      "cell_type": "code",
      "metadata": {
        "colab": {
          "base_uri": "https://localhost:8080/"
        },
        "id": "nf4sZXLjpbot",
        "outputId": "1d2e98d9-8d97-44d1-a107-ae828e5e4882"
      },
      "source": [
        "!jupyter nbconvert --to html  Machine_learning_sv.ipynb"
      ],
      "execution_count": 8,
      "outputs": [
        {
          "output_type": "stream",
          "text": [
            "[NbConvertApp] Converting notebook Machine_learning_sv.ipynb to html\n",
            "[NbConvertApp] Writing 1228368 bytes to Machine_learning_sv.html\n"
          ],
          "name": "stdout"
        }
      ]
    }
  ]
}