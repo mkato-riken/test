{
  "nbformat": 4,
  "nbformat_minor": 0,
  "metadata": {
    "colab": {
      "name": "R_ex1_2021.ipynb",
      "provenance": [],
      "collapsed_sections": []
    },
    "kernelspec": {
      "display_name": "R",
      "language": "R",
      "name": "ir"
    },
    "language_info": {
      "codemirror_mode": "r",
      "file_extension": ".r",
      "mimetype": "text/x-r-source",
      "name": "R",
      "pygments_lexer": "r",
      "version": "4.1.1"
    }
  },
  "cells": [
    {
      "cell_type": "markdown",
      "metadata": {
        "id": "3ny6dmUznpwA"
      },
      "source": [
        "# 簡単な分析の実行例（R編）\n",
        "サンプルデータを読み込んで新しいデータを格納してみよう！</br>\n",
        "（『[RとPythonで学ぶ実践的データサイエンス&機械学習]( https://www.amazon.co.jp/dp/429710508X/ref=cm_sw_em_r_mt_dp_hXISFbNZQVC16)』より抜粋）\n",
        "<br>\n",
        "講義資料 p32-37 プログラミングの基礎知識　R　参照"
      ]
    },
    {
      "cell_type": "markdown",
      "metadata": {
        "id": "9BTr350SoHqt"
      },
      "source": [
        "**Step1**　ライブラリ　ggplot2 を読み込む（ライブラリの読み込みの練習です）\n",
        "<br>\n",
        "ヒント　library()でライブラリの読み込みができます"
      ]
    },
    {
      "cell_type": "code",
      "metadata": {
        "id": "SZ75ZhGb9DiM"
      },
      "source": [
        "library(ggplot2)"
      ],
      "execution_count": 1,
      "outputs": []
    },
    {
      "cell_type": "markdown",
      "metadata": {
        "id": "lYKRqMkwobvY"
      },
      "source": [
        "**Step2**　CSVファイルを読み込んでデータフレーム(DF)に格納\n",
        "<br>\n",
        "ヒント　read.table（\"httpsリンク\", sep=\",\", header = T）でカンマ区切りのヘッダー付きファイルを読み込みます(講義資料p33)\n"
      ]
    },
    {
      "cell_type": "code",
      "metadata": {
        "id": "1seaIRWd9EUm"
      },
      "source": [
        "DF <- read.table(\"https://raw.githubusercontent.com/mkato-riken/test/main/sample.csv\", sep =\",\", header = T)"
      ],
      "execution_count": 2,
      "outputs": []
    },
    {
      "cell_type": "markdown",
      "metadata": {
        "id": "WSNz0ZZjos__"
      },
      "source": [
        "**Step3**　先頭の６行を確認\n",
        "<br>\n",
        "ヒント　データフレーム名[行,列]で表示できます（講義資料p34）"
      ]
    },
    {
      "cell_type": "code",
      "metadata": {
        "id": "u4Wvo_qK9E8c",
        "outputId": "cd45b1e7-bdc7-48d5-b2eb-84976302370c",
        "colab": {
          "base_uri": "https://localhost:8080/",
          "height": 283
        }
      },
      "source": [
        "DF[0:6,]"
      ],
      "execution_count": 9,
      "outputs": [
        {
          "output_type": "display_data",
          "data": {
            "text/plain": [
              "  varA       varB      \n",
              "1  1.0923267  0.7013870\n",
              "2 -0.2123608  0.1097072\n",
              "3  0.8504561  0.2781445\n",
              "4  0.9691980  1.2924353\n",
              "5  2.5962176  0.9482120\n",
              "6 -0.5082902 -0.6481637"
            ],
            "text/latex": "A data.frame: 6 × 2\n\\begin{tabular}{r|ll}\n  & varA & varB\\\\\n  & <dbl> & <dbl>\\\\\n\\hline\n\t1 &  1.0923267 &  0.7013870\\\\\n\t2 & -0.2123608 &  0.1097072\\\\\n\t3 &  0.8504561 &  0.2781445\\\\\n\t4 &  0.9691980 &  1.2924353\\\\\n\t5 &  2.5962176 &  0.9482120\\\\\n\t6 & -0.5082902 & -0.6481637\\\\\n\\end{tabular}\n",
            "text/markdown": "\nA data.frame: 6 × 2\n\n| <!--/--> | varA &lt;dbl&gt; | varB &lt;dbl&gt; |\n|---|---|---|\n| 1 |  1.0923267 |  0.7013870 |\n| 2 | -0.2123608 |  0.1097072 |\n| 3 |  0.8504561 |  0.2781445 |\n| 4 |  0.9691980 |  1.2924353 |\n| 5 |  2.5962176 |  0.9482120 |\n| 6 | -0.5082902 | -0.6481637 |\n\n",
            "text/html": [
              "<table class=\"dataframe\">\n",
              "<caption>A data.frame: 6 × 2</caption>\n",
              "<thead>\n",
              "\t<tr><th></th><th scope=col>varA</th><th scope=col>varB</th></tr>\n",
              "\t<tr><th></th><th scope=col>&lt;dbl&gt;</th><th scope=col>&lt;dbl&gt;</th></tr>\n",
              "</thead>\n",
              "<tbody>\n",
              "\t<tr><th scope=row>1</th><td> 1.0923267</td><td> 0.7013870</td></tr>\n",
              "\t<tr><th scope=row>2</th><td>-0.2123608</td><td> 0.1097072</td></tr>\n",
              "\t<tr><th scope=row>3</th><td> 0.8504561</td><td> 0.2781445</td></tr>\n",
              "\t<tr><th scope=row>4</th><td> 0.9691980</td><td> 1.2924353</td></tr>\n",
              "\t<tr><th scope=row>5</th><td> 2.5962176</td><td> 0.9482120</td></tr>\n",
              "\t<tr><th scope=row>6</th><td>-0.5082902</td><td>-0.6481637</td></tr>\n",
              "</tbody>\n",
              "</table>\n"
            ]
          },
          "metadata": {}
        }
      ]
    },
    {
      "cell_type": "markdown",
      "metadata": {
        "id": "LmEmlTLipiIu"
      },
      "source": [
        "**Step４**　データ型と行数、列数を確認\n",
        "<br>\n",
        "ヒント　class()でデータ型、dim()で行数列数が確認できます(講義資料p30、p33)"
      ]
    },
    {
      "cell_type": "code",
      "metadata": {
        "id": "FWPBkrEa9Fmk",
        "outputId": "c1f0b85c-8d3e-4de6-d938-e13ab79cf8db",
        "colab": {
          "base_uri": "https://localhost:8080/"
        }
      },
      "source": [
        "#データ型\n",
        "print(class(DF))\n",
        "#行列数\n",
        "print(dim(DF))"
      ],
      "execution_count": 12,
      "outputs": [
        {
          "output_type": "stream",
          "name": "stdout",
          "text": [
            "[1] \"data.frame\"\n",
            "[1] 200   2\n"
          ]
        }
      ]
    },
    {
      "cell_type": "markdown",
      "metadata": {
        "id": "7DzF_-vmqBKE"
      },
      "source": [
        "**Step5**　列ごとの最大値、最小値を確認\n",
        "<br>\n",
        "ヒント　関数()で算出できます(講義資料p34)\n"
      ]
    },
    {
      "cell_type": "code",
      "metadata": {
        "id": "8Rao8ruu9GOU",
        "outputId": "2feae06e-c5b7-40f2-9895-a5cca4f007e6",
        "colab": {
          "base_uri": "https://localhost:8080/"
        }
      },
      "source": [
        "#最大値\n",
        "print(max(DF$varA))\n",
        "print(max(DF$varB))\n",
        "#最小値\n",
        "print(min(DF$varA))\n",
        "print(min(DF$varB))"
      ],
      "execution_count": 16,
      "outputs": [
        {
          "output_type": "stream",
          "name": "stdout",
          "text": [
            "[1] 2.596218\n",
            "[1] 2.294457\n",
            "[1] -2.801946\n",
            "[1] -3.364918\n"
          ]
        }
      ]
    },
    {
      "cell_type": "markdown",
      "metadata": {
        "id": "qiH_whfXqIQ0"
      },
      "source": [
        "**Step6**　varAとvarBをそれぞれ２乗して足した値が１未満かどうかを判定\n",
        "<br>\n",
        "（判定結果を id　に格納する）\n",
        "<br>\n",
        "ヒント　列の値どうしで演算し、結果を新しい列に格納します（講義資料p29、p34）"
      ]
    },
    {
      "cell_type": "code",
      "metadata": {
        "id": "73k2RYa09G4O",
        "outputId": "af6dbe76-8a06-43cb-c59c-21dd4fc23caf",
        "colab": {
          "base_uri": "https://localhost:8080/",
          "height": 187
        }
      },
      "source": [
        "id <- DF$varA^2 + DF$varB^2 < 1\n",
        "id"
      ],
      "execution_count": 17,
      "outputs": [
        {
          "output_type": "display_data",
          "data": {
            "text/plain": [
              "  [1] FALSE  TRUE  TRUE FALSE FALSE  TRUE FALSE FALSE FALSE  TRUE  TRUE FALSE\n",
              " [13]  TRUE FALSE FALSE FALSE  TRUE  TRUE FALSE FALSE  TRUE  TRUE FALSE FALSE\n",
              " [25]  TRUE  TRUE FALSE  TRUE FALSE FALSE FALSE FALSE FALSE FALSE FALSE FALSE\n",
              " [37] FALSE FALSE  TRUE  TRUE FALSE FALSE FALSE  TRUE  TRUE  TRUE FALSE  TRUE\n",
              " [49] FALSE FALSE  TRUE FALSE  TRUE  TRUE  TRUE  TRUE FALSE FALSE  TRUE FALSE\n",
              " [61]  TRUE  TRUE  TRUE FALSE FALSE FALSE FALSE  TRUE FALSE FALSE FALSE FALSE\n",
              " [73] FALSE  TRUE FALSE  TRUE  TRUE  TRUE FALSE  TRUE  TRUE FALSE FALSE  TRUE\n",
              " [85] FALSE  TRUE FALSE FALSE FALSE  TRUE FALSE  TRUE FALSE  TRUE FALSE  TRUE\n",
              " [97] FALSE FALSE  TRUE FALSE  TRUE FALSE  TRUE FALSE FALSE FALSE  TRUE FALSE\n",
              "[109]  TRUE  TRUE FALSE FALSE  TRUE FALSE  TRUE  TRUE  TRUE FALSE FALSE  TRUE\n",
              "[121] FALSE FALSE FALSE FALSE  TRUE FALSE FALSE  TRUE  TRUE  TRUE FALSE  TRUE\n",
              "[133]  TRUE  TRUE  TRUE FALSE  TRUE  TRUE FALSE FALSE  TRUE FALSE  TRUE FALSE\n",
              "[145]  TRUE  TRUE FALSE FALSE  TRUE FALSE FALSE  TRUE FALSE FALSE FALSE  TRUE\n",
              "[157] FALSE  TRUE  TRUE  TRUE  TRUE FALSE  TRUE FALSE  TRUE FALSE FALSE  TRUE\n",
              "[169] FALSE  TRUE  TRUE  TRUE FALSE  TRUE FALSE  TRUE FALSE  TRUE  TRUE  TRUE\n",
              "[181]  TRUE FALSE FALSE  TRUE FALSE FALSE FALSE  TRUE  TRUE FALSE FALSE FALSE\n",
              "[193]  TRUE FALSE FALSE  TRUE  TRUE FALSE FALSE  TRUE"
            ],
            "text/latex": "\\begin{enumerate*}\n\\item FALSE\n\\item TRUE\n\\item TRUE\n\\item FALSE\n\\item FALSE\n\\item TRUE\n\\item FALSE\n\\item FALSE\n\\item FALSE\n\\item TRUE\n\\item TRUE\n\\item FALSE\n\\item TRUE\n\\item FALSE\n\\item FALSE\n\\item FALSE\n\\item TRUE\n\\item TRUE\n\\item FALSE\n\\item FALSE\n\\item TRUE\n\\item TRUE\n\\item FALSE\n\\item FALSE\n\\item TRUE\n\\item TRUE\n\\item FALSE\n\\item TRUE\n\\item FALSE\n\\item FALSE\n\\item FALSE\n\\item FALSE\n\\item FALSE\n\\item FALSE\n\\item FALSE\n\\item FALSE\n\\item FALSE\n\\item FALSE\n\\item TRUE\n\\item TRUE\n\\item FALSE\n\\item FALSE\n\\item FALSE\n\\item TRUE\n\\item TRUE\n\\item TRUE\n\\item FALSE\n\\item TRUE\n\\item FALSE\n\\item FALSE\n\\item TRUE\n\\item FALSE\n\\item TRUE\n\\item TRUE\n\\item TRUE\n\\item TRUE\n\\item FALSE\n\\item FALSE\n\\item TRUE\n\\item FALSE\n\\item TRUE\n\\item TRUE\n\\item TRUE\n\\item FALSE\n\\item FALSE\n\\item FALSE\n\\item FALSE\n\\item TRUE\n\\item FALSE\n\\item FALSE\n\\item FALSE\n\\item FALSE\n\\item FALSE\n\\item TRUE\n\\item FALSE\n\\item TRUE\n\\item TRUE\n\\item TRUE\n\\item FALSE\n\\item TRUE\n\\item TRUE\n\\item FALSE\n\\item FALSE\n\\item TRUE\n\\item FALSE\n\\item TRUE\n\\item FALSE\n\\item FALSE\n\\item FALSE\n\\item TRUE\n\\item FALSE\n\\item TRUE\n\\item FALSE\n\\item TRUE\n\\item FALSE\n\\item TRUE\n\\item FALSE\n\\item FALSE\n\\item TRUE\n\\item FALSE\n\\item TRUE\n\\item FALSE\n\\item TRUE\n\\item FALSE\n\\item FALSE\n\\item FALSE\n\\item TRUE\n\\item FALSE\n\\item TRUE\n\\item TRUE\n\\item FALSE\n\\item FALSE\n\\item TRUE\n\\item FALSE\n\\item TRUE\n\\item TRUE\n\\item TRUE\n\\item FALSE\n\\item FALSE\n\\item TRUE\n\\item FALSE\n\\item FALSE\n\\item FALSE\n\\item FALSE\n\\item TRUE\n\\item FALSE\n\\item FALSE\n\\item TRUE\n\\item TRUE\n\\item TRUE\n\\item FALSE\n\\item TRUE\n\\item TRUE\n\\item TRUE\n\\item TRUE\n\\item FALSE\n\\item TRUE\n\\item TRUE\n\\item FALSE\n\\item FALSE\n\\item TRUE\n\\item FALSE\n\\item TRUE\n\\item FALSE\n\\item TRUE\n\\item TRUE\n\\item FALSE\n\\item FALSE\n\\item TRUE\n\\item FALSE\n\\item FALSE\n\\item TRUE\n\\item FALSE\n\\item FALSE\n\\item FALSE\n\\item TRUE\n\\item FALSE\n\\item TRUE\n\\item TRUE\n\\item TRUE\n\\item TRUE\n\\item FALSE\n\\item TRUE\n\\item FALSE\n\\item TRUE\n\\item FALSE\n\\item FALSE\n\\item TRUE\n\\item FALSE\n\\item TRUE\n\\item TRUE\n\\item TRUE\n\\item FALSE\n\\item TRUE\n\\item FALSE\n\\item TRUE\n\\item FALSE\n\\item TRUE\n\\item TRUE\n\\item TRUE\n\\item TRUE\n\\item FALSE\n\\item FALSE\n\\item TRUE\n\\item FALSE\n\\item FALSE\n\\item FALSE\n\\item TRUE\n\\item TRUE\n\\item FALSE\n\\item FALSE\n\\item FALSE\n\\item TRUE\n\\item FALSE\n\\item FALSE\n\\item TRUE\n\\item TRUE\n\\item FALSE\n\\item FALSE\n\\item TRUE\n\\end{enumerate*}\n",
            "text/markdown": "1. FALSE\n2. TRUE\n3. TRUE\n4. FALSE\n5. FALSE\n6. TRUE\n7. FALSE\n8. FALSE\n9. FALSE\n10. TRUE\n11. TRUE\n12. FALSE\n13. TRUE\n14. FALSE\n15. FALSE\n16. FALSE\n17. TRUE\n18. TRUE\n19. FALSE\n20. FALSE\n21. TRUE\n22. TRUE\n23. FALSE\n24. FALSE\n25. TRUE\n26. TRUE\n27. FALSE\n28. TRUE\n29. FALSE\n30. FALSE\n31. FALSE\n32. FALSE\n33. FALSE\n34. FALSE\n35. FALSE\n36. FALSE\n37. FALSE\n38. FALSE\n39. TRUE\n40. TRUE\n41. FALSE\n42. FALSE\n43. FALSE\n44. TRUE\n45. TRUE\n46. TRUE\n47. FALSE\n48. TRUE\n49. FALSE\n50. FALSE\n51. TRUE\n52. FALSE\n53. TRUE\n54. TRUE\n55. TRUE\n56. TRUE\n57. FALSE\n58. FALSE\n59. TRUE\n60. FALSE\n61. TRUE\n62. TRUE\n63. TRUE\n64. FALSE\n65. FALSE\n66. FALSE\n67. FALSE\n68. TRUE\n69. FALSE\n70. FALSE\n71. FALSE\n72. FALSE\n73. FALSE\n74. TRUE\n75. FALSE\n76. TRUE\n77. TRUE\n78. TRUE\n79. FALSE\n80. TRUE\n81. TRUE\n82. FALSE\n83. FALSE\n84. TRUE\n85. FALSE\n86. TRUE\n87. FALSE\n88. FALSE\n89. FALSE\n90. TRUE\n91. FALSE\n92. TRUE\n93. FALSE\n94. TRUE\n95. FALSE\n96. TRUE\n97. FALSE\n98. FALSE\n99. TRUE\n100. FALSE\n101. TRUE\n102. FALSE\n103. TRUE\n104. FALSE\n105. FALSE\n106. FALSE\n107. TRUE\n108. FALSE\n109. TRUE\n110. TRUE\n111. FALSE\n112. FALSE\n113. TRUE\n114. FALSE\n115. TRUE\n116. TRUE\n117. TRUE\n118. FALSE\n119. FALSE\n120. TRUE\n121. FALSE\n122. FALSE\n123. FALSE\n124. FALSE\n125. TRUE\n126. FALSE\n127. FALSE\n128. TRUE\n129. TRUE\n130. TRUE\n131. FALSE\n132. TRUE\n133. TRUE\n134. TRUE\n135. TRUE\n136. FALSE\n137. TRUE\n138. TRUE\n139. FALSE\n140. FALSE\n141. TRUE\n142. FALSE\n143. TRUE\n144. FALSE\n145. TRUE\n146. TRUE\n147. FALSE\n148. FALSE\n149. TRUE\n150. FALSE\n151. FALSE\n152. TRUE\n153. FALSE\n154. FALSE\n155. FALSE\n156. TRUE\n157. FALSE\n158. TRUE\n159. TRUE\n160. TRUE\n161. TRUE\n162. FALSE\n163. TRUE\n164. FALSE\n165. TRUE\n166. FALSE\n167. FALSE\n168. TRUE\n169. FALSE\n170. TRUE\n171. TRUE\n172. TRUE\n173. FALSE\n174. TRUE\n175. FALSE\n176. TRUE\n177. FALSE\n178. TRUE\n179. TRUE\n180. TRUE\n181. TRUE\n182. FALSE\n183. FALSE\n184. TRUE\n185. FALSE\n186. FALSE\n187. FALSE\n188. TRUE\n189. TRUE\n190. FALSE\n191. FALSE\n192. FALSE\n193. TRUE\n194. FALSE\n195. FALSE\n196. TRUE\n197. TRUE\n198. FALSE\n199. FALSE\n200. TRUE\n\n\n",
            "text/html": [
              "<style>\n",
              ".list-inline {list-style: none; margin:0; padding: 0}\n",
              ".list-inline>li {display: inline-block}\n",
              ".list-inline>li:not(:last-child)::after {content: \"\\00b7\"; padding: 0 .5ex}\n",
              "</style>\n",
              "<ol class=list-inline><li>FALSE</li><li>TRUE</li><li>TRUE</li><li>FALSE</li><li>FALSE</li><li>TRUE</li><li>FALSE</li><li>FALSE</li><li>FALSE</li><li>TRUE</li><li>TRUE</li><li>FALSE</li><li>TRUE</li><li>FALSE</li><li>FALSE</li><li>FALSE</li><li>TRUE</li><li>TRUE</li><li>FALSE</li><li>FALSE</li><li>TRUE</li><li>TRUE</li><li>FALSE</li><li>FALSE</li><li>TRUE</li><li>TRUE</li><li>FALSE</li><li>TRUE</li><li>FALSE</li><li>FALSE</li><li>FALSE</li><li>FALSE</li><li>FALSE</li><li>FALSE</li><li>FALSE</li><li>FALSE</li><li>FALSE</li><li>FALSE</li><li>TRUE</li><li>TRUE</li><li>FALSE</li><li>FALSE</li><li>FALSE</li><li>TRUE</li><li>TRUE</li><li>TRUE</li><li>FALSE</li><li>TRUE</li><li>FALSE</li><li>FALSE</li><li>TRUE</li><li>FALSE</li><li>TRUE</li><li>TRUE</li><li>TRUE</li><li>TRUE</li><li>FALSE</li><li>FALSE</li><li>TRUE</li><li>FALSE</li><li>TRUE</li><li>TRUE</li><li>TRUE</li><li>FALSE</li><li>FALSE</li><li>FALSE</li><li>FALSE</li><li>TRUE</li><li>FALSE</li><li>FALSE</li><li>FALSE</li><li>FALSE</li><li>FALSE</li><li>TRUE</li><li>FALSE</li><li>TRUE</li><li>TRUE</li><li>TRUE</li><li>FALSE</li><li>TRUE</li><li>TRUE</li><li>FALSE</li><li>FALSE</li><li>TRUE</li><li>FALSE</li><li>TRUE</li><li>FALSE</li><li>FALSE</li><li>FALSE</li><li>TRUE</li><li>FALSE</li><li>TRUE</li><li>FALSE</li><li>TRUE</li><li>FALSE</li><li>TRUE</li><li>FALSE</li><li>FALSE</li><li>TRUE</li><li>FALSE</li><li>TRUE</li><li>FALSE</li><li>TRUE</li><li>FALSE</li><li>FALSE</li><li>FALSE</li><li>TRUE</li><li>FALSE</li><li>TRUE</li><li>TRUE</li><li>FALSE</li><li>FALSE</li><li>TRUE</li><li>FALSE</li><li>TRUE</li><li>TRUE</li><li>TRUE</li><li>FALSE</li><li>FALSE</li><li>TRUE</li><li>FALSE</li><li>FALSE</li><li>FALSE</li><li>FALSE</li><li>TRUE</li><li>FALSE</li><li>FALSE</li><li>TRUE</li><li>TRUE</li><li>TRUE</li><li>FALSE</li><li>TRUE</li><li>TRUE</li><li>TRUE</li><li>TRUE</li><li>FALSE</li><li>TRUE</li><li>TRUE</li><li>FALSE</li><li>FALSE</li><li>TRUE</li><li>FALSE</li><li>TRUE</li><li>FALSE</li><li>TRUE</li><li>TRUE</li><li>FALSE</li><li>FALSE</li><li>TRUE</li><li>FALSE</li><li>FALSE</li><li>TRUE</li><li>FALSE</li><li>FALSE</li><li>FALSE</li><li>TRUE</li><li>FALSE</li><li>TRUE</li><li>TRUE</li><li>TRUE</li><li>TRUE</li><li>FALSE</li><li>TRUE</li><li>FALSE</li><li>TRUE</li><li>FALSE</li><li>FALSE</li><li>TRUE</li><li>FALSE</li><li>TRUE</li><li>TRUE</li><li>TRUE</li><li>FALSE</li><li>TRUE</li><li>FALSE</li><li>TRUE</li><li>FALSE</li><li>TRUE</li><li>TRUE</li><li>TRUE</li><li>TRUE</li><li>FALSE</li><li>FALSE</li><li>TRUE</li><li>FALSE</li><li>FALSE</li><li>FALSE</li><li>TRUE</li><li>TRUE</li><li>FALSE</li><li>FALSE</li><li>FALSE</li><li>TRUE</li><li>FALSE</li><li>FALSE</li><li>TRUE</li><li>TRUE</li><li>FALSE</li><li>FALSE</li><li>TRUE</li></ol>\n"
            ]
          },
          "metadata": {}
        }
      ]
    }
  ]
}