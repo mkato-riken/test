{
  "nbformat": 4,
  "nbformat_minor": 0,
  "metadata": {
    "colab": {
      "name": "R_ex1_2021.ipynb のコピー",
      "provenance": [],
      "collapsed_sections": []
    },
    "kernelspec": {
      "display_name": "R",
      "language": "R",
      "name": "ir"
    },
    "language_info": {
      "codemirror_mode": "r",
      "file_extension": ".r",
      "mimetype": "text/x-r-source",
      "name": "R",
      "pygments_lexer": "r",
      "version": "4.1.1"
    }
  },
  "cells": [
    {
      "cell_type": "markdown",
      "metadata": {
        "id": "3ny6dmUznpwA"
      },
      "source": [
        "# 簡単な分析の実行例（R編）\n",
        "サンプルデータを読み込んで、散布図を書いてみよう！</br>\n",
        "（『[RとPythonで学ぶ実践的データサイエンス&機械学習]( https://www.amazon.co.jp/dp/429710508X/ref=cm_sw_em_r_mt_dp_hXISFbNZQVC16)』より抜粋 p.94）"
      ]
    },
    {
      "cell_type": "markdown",
      "metadata": {
        "id": "9BTr350SoHqt"
      },
      "source": [
        "**Step1**　ライブラリ　ggplot2 を読み込む\n",
        "<br>\n",
        "ヒント　library()でライブラリの読み込みができます"
      ]
    },
    {
      "cell_type": "code",
      "metadata": {
        "id": "SZ75ZhGb9DiM"
      },
      "source": [
        "library(ggplot2)"
      ],
      "execution_count": 1,
      "outputs": []
    },
    {
      "cell_type": "markdown",
      "metadata": {
        "id": "lYKRqMkwobvY"
      },
      "source": [
        "**Step2**　CSVファイルを読み込んでデータフレーム(DF)に格納\n",
        "<br>\n",
        "ヒント　read.table（\"httpsリンク\", sep=\",\", header = T）でカンマ区切りのヘッダー付きファイルを読み込みます"
      ]
    },
    {
      "cell_type": "code",
      "metadata": {
        "id": "1seaIRWd9EUm"
      },
      "source": [
        "DF <- read.table(\"https://raw.githubusercontent.com/mkato-riken/test/main/sample.csv\", sep =\",\", header = T)"
      ],
      "execution_count": 2,
      "outputs": []
    },
    {
      "cell_type": "markdown",
      "metadata": {
        "id": "WSNz0ZZjos__"
      },
      "source": [
        "**Step3**　先頭の６行を確認"
      ]
    },
    {
      "cell_type": "code",
      "metadata": {
        "id": "u4Wvo_qK9E8c",
        "colab": {
          "base_uri": "https://localhost:8080/",
          "height": 283
        },
        "outputId": "cd5ba1ac-169d-4397-8821-841d9059aaf2"
      },
      "source": [
        "head(DF)"
      ],
      "execution_count": 3,
      "outputs": [
        {
          "output_type": "display_data",
          "data": {
            "text/plain": [
              "  varA       varB      \n",
              "1  1.0923267  0.7013870\n",
              "2 -0.2123608  0.1097072\n",
              "3  0.8504561  0.2781445\n",
              "4  0.9691980  1.2924353\n",
              "5  2.5962176  0.9482120\n",
              "6 -0.5082902 -0.6481637"
            ],
            "text/latex": "A data.frame: 6 × 2\n\\begin{tabular}{r|ll}\n  & varA & varB\\\\\n  & <dbl> & <dbl>\\\\\n\\hline\n\t1 &  1.0923267 &  0.7013870\\\\\n\t2 & -0.2123608 &  0.1097072\\\\\n\t3 &  0.8504561 &  0.2781445\\\\\n\t4 &  0.9691980 &  1.2924353\\\\\n\t5 &  2.5962176 &  0.9482120\\\\\n\t6 & -0.5082902 & -0.6481637\\\\\n\\end{tabular}\n",
            "text/markdown": "\nA data.frame: 6 × 2\n\n| <!--/--> | varA &lt;dbl&gt; | varB &lt;dbl&gt; |\n|---|---|---|\n| 1 |  1.0923267 |  0.7013870 |\n| 2 | -0.2123608 |  0.1097072 |\n| 3 |  0.8504561 |  0.2781445 |\n| 4 |  0.9691980 |  1.2924353 |\n| 5 |  2.5962176 |  0.9482120 |\n| 6 | -0.5082902 | -0.6481637 |\n\n",
            "text/html": [
              "<table class=\"dataframe\">\n",
              "<caption>A data.frame: 6 × 2</caption>\n",
              "<thead>\n",
              "\t<tr><th></th><th scope=col>varA</th><th scope=col>varB</th></tr>\n",
              "\t<tr><th></th><th scope=col>&lt;dbl&gt;</th><th scope=col>&lt;dbl&gt;</th></tr>\n",
              "</thead>\n",
              "<tbody>\n",
              "\t<tr><th scope=row>1</th><td> 1.0923267</td><td> 0.7013870</td></tr>\n",
              "\t<tr><th scope=row>2</th><td>-0.2123608</td><td> 0.1097072</td></tr>\n",
              "\t<tr><th scope=row>3</th><td> 0.8504561</td><td> 0.2781445</td></tr>\n",
              "\t<tr><th scope=row>4</th><td> 0.9691980</td><td> 1.2924353</td></tr>\n",
              "\t<tr><th scope=row>5</th><td> 2.5962176</td><td> 0.9482120</td></tr>\n",
              "\t<tr><th scope=row>6</th><td>-0.5082902</td><td>-0.6481637</td></tr>\n",
              "</tbody>\n",
              "</table>\n"
            ]
          },
          "metadata": {}
        }
      ]
    },
    {
      "cell_type": "markdown",
      "metadata": {
        "id": "LmEmlTLipiIu"
      },
      "source": [
        "**Step４**　行数、列数を確認\n",
        "<br>\n",
        "str関数で行数列数が確認できます"
      ]
    },
    {
      "cell_type": "code",
      "metadata": {
        "id": "FWPBkrEa9Fmk",
        "colab": {
          "base_uri": "https://localhost:8080/"
        },
        "outputId": "2b1c2bc0-bf93-41de-bd07-cb04fe85156e"
      },
      "source": [
        "str(DF)"
      ],
      "execution_count": 4,
      "outputs": [
        {
          "output_type": "stream",
          "name": "stdout",
          "text": [
            "'data.frame':\t200 obs. of  2 variables:\n",
            " $ varA: num  1.092 -0.212 0.85 0.969 2.596 ...\n",
            " $ varB: num  0.701 0.11 0.278 1.292 0.948 ...\n"
          ]
        }
      ]
    },
    {
      "cell_type": "markdown",
      "metadata": {
        "id": "7DzF_-vmqBKE"
      },
      "source": [
        "**Step5**　平均値、中央値、最大値、最小値を確認\n",
        "<br>\n",
        "ヒント　summary関数を使ってみましょう"
      ]
    },
    {
      "cell_type": "code",
      "metadata": {
        "id": "8Rao8ruu9GOU",
        "colab": {
          "base_uri": "https://localhost:8080/",
          "height": 136
        },
        "outputId": "349fbd19-57c9-441d-863c-5200bdf1e707"
      },
      "source": [
        "summary(DF)"
      ],
      "execution_count": 5,
      "outputs": [
        {
          "output_type": "display_data",
          "data": {
            "text/plain": [
              "      varA               varB         \n",
              " Min.   :-2.80195   Min.   :-3.36492  \n",
              " 1st Qu.:-0.54437   1st Qu.:-0.75924  \n",
              " Median : 0.08472   Median : 0.10874  \n",
              " Mean   : 0.02577   Mean   : 0.03708  \n",
              " 3rd Qu.: 0.71063   3rd Qu.: 0.77003  \n",
              " Max.   : 2.59622   Max.   : 2.29446  "
            ]
          },
          "metadata": {}
        }
      ]
    },
    {
      "cell_type": "markdown",
      "metadata": {
        "id": "qiH_whfXqIQ0"
      },
      "source": [
        "**Step6**　varAとvarBをそれぞれ２乗して足した値が１未満かどうかを判定\n",
        "<br>\n",
        "（判定結果を id　に格納する）"
      ]
    },
    {
      "cell_type": "code",
      "metadata": {
        "id": "73k2RYa09G4O"
      },
      "source": [
        "id <- DF$varA^2 + DF$varB^2 < 1"
      ],
      "execution_count": 9,
      "outputs": []
    }
  ]
}