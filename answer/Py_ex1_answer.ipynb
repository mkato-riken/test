{
  "nbformat": 4,
  "nbformat_minor": 0,
  "metadata": {
    "colab": {
      "name": "Py-ex1.ipynb のコピー",
      "provenance": [],
      "collapsed_sections": []
    },
    "kernelspec": {
      "name": "python3",
      "display_name": "Python 3"
    }
  },
  "cells": [
    {
      "cell_type": "markdown",
      "metadata": {
        "id": "tj_v6k10-jnL"
      },
      "source": [
        "# 簡単な分析の実行例（Python編）\n",
        "サンプルデータを読み込んで、散布図を書いてみよう！</br>\n",
        "（『[RとPythonで学ぶ実践的データサイエンス&機械学習]( https://www.amazon.co.jp/dp/429710508X/ref=cm_sw_em_r_mt_dp_hXISFbNZQVC16)』より抜粋 p.95）\n"
      ]
    },
    {
      "cell_type": "markdown",
      "metadata": {
        "id": "ehRoNBAo4ioZ"
      },
      "source": [
        "**Step1**　必要なライブラリを読み込む"
      ]
    },
    {
      "cell_type": "code",
      "metadata": {
        "id": "1PsZdtBTzMzE"
      },
      "source": [
        "import pandas as pd\n",
        "import matplotlib.pyplot as plt"
      ],
      "execution_count": 1,
      "outputs": []
    },
    {
      "cell_type": "markdown",
      "metadata": {
        "id": "8FiCuEZj4R5i"
      },
      "source": [
        "**Step2**　CSVファイルを読み込んでデータフレームに格納"
      ]
    },
    {
      "cell_type": "code",
      "metadata": {
        "id": "B9vPCPx-z0p-"
      },
      "source": [
        "DF = pd.read_csv(\"https://raw.githubusercontent.com/mkato-riken/test/main/sample.csv\", sep = \",\")"
      ],
      "execution_count": 2,
      "outputs": []
    },
    {
      "cell_type": "markdown",
      "metadata": {
        "id": "TfGORgjO44o-"
      },
      "source": [
        "**Step3**　先頭の６行を確認"
      ]
    },
    {
      "cell_type": "code",
      "metadata": {
        "id": "q2nIn37Pz6gB",
        "colab": {
          "base_uri": "https://localhost:8080/",
          "height": 235
        },
        "outputId": "41f86a79-c30a-4cac-9bfe-c0a63a314dad"
      },
      "source": [
        "DF.head(6)"
      ],
      "execution_count": 3,
      "outputs": [
        {
          "output_type": "execute_result",
          "data": {
            "text/html": [
              "<div>\n",
              "<style scoped>\n",
              "    .dataframe tbody tr th:only-of-type {\n",
              "        vertical-align: middle;\n",
              "    }\n",
              "\n",
              "    .dataframe tbody tr th {\n",
              "        vertical-align: top;\n",
              "    }\n",
              "\n",
              "    .dataframe thead th {\n",
              "        text-align: right;\n",
              "    }\n",
              "</style>\n",
              "<table border=\"1\" class=\"dataframe\">\n",
              "  <thead>\n",
              "    <tr style=\"text-align: right;\">\n",
              "      <th></th>\n",
              "      <th>varA</th>\n",
              "      <th>varB</th>\n",
              "    </tr>\n",
              "  </thead>\n",
              "  <tbody>\n",
              "    <tr>\n",
              "      <th>0</th>\n",
              "      <td>1.092327</td>\n",
              "      <td>0.701387</td>\n",
              "    </tr>\n",
              "    <tr>\n",
              "      <th>1</th>\n",
              "      <td>-0.212361</td>\n",
              "      <td>0.109707</td>\n",
              "    </tr>\n",
              "    <tr>\n",
              "      <th>2</th>\n",
              "      <td>0.850456</td>\n",
              "      <td>0.278144</td>\n",
              "    </tr>\n",
              "    <tr>\n",
              "      <th>3</th>\n",
              "      <td>0.969198</td>\n",
              "      <td>1.292435</td>\n",
              "    </tr>\n",
              "    <tr>\n",
              "      <th>4</th>\n",
              "      <td>2.596218</td>\n",
              "      <td>0.948212</td>\n",
              "    </tr>\n",
              "    <tr>\n",
              "      <th>5</th>\n",
              "      <td>-0.508290</td>\n",
              "      <td>-0.648164</td>\n",
              "    </tr>\n",
              "  </tbody>\n",
              "</table>\n",
              "</div>"
            ],
            "text/plain": [
              "       varA      varB\n",
              "0  1.092327  0.701387\n",
              "1 -0.212361  0.109707\n",
              "2  0.850456  0.278144\n",
              "3  0.969198  1.292435\n",
              "4  2.596218  0.948212\n",
              "5 -0.508290 -0.648164"
            ]
          },
          "metadata": {
            "tags": []
          },
          "execution_count": 3
        }
      ]
    },
    {
      "cell_type": "markdown",
      "metadata": {
        "id": "uCpIYpXd5IK2"
      },
      "source": [
        "**Step４**　データ型と行数、列数を確認"
      ]
    },
    {
      "cell_type": "code",
      "metadata": {
        "id": "0Rzjd7gb0Ay5",
        "colab": {
          "base_uri": "https://localhost:8080/"
        },
        "outputId": "fc4b23b2-c475-4236-a451-c6955325495a"
      },
      "source": [
        "type(DF)"
      ],
      "execution_count": 4,
      "outputs": [
        {
          "output_type": "execute_result",
          "data": {
            "text/plain": [
              "pandas.core.frame.DataFrame"
            ]
          },
          "metadata": {
            "tags": []
          },
          "execution_count": 4
        }
      ]
    },
    {
      "cell_type": "code",
      "metadata": {
        "id": "akxGyi-d0C0v",
        "colab": {
          "base_uri": "https://localhost:8080/"
        },
        "outputId": "8227476b-cc1b-41ac-fe78-7ac651ec6341"
      },
      "source": [
        "DF.shape"
      ],
      "execution_count": 5,
      "outputs": [
        {
          "output_type": "execute_result",
          "data": {
            "text/plain": [
              "(200, 2)"
            ]
          },
          "metadata": {
            "tags": []
          },
          "execution_count": 5
        }
      ]
    },
    {
      "cell_type": "markdown",
      "metadata": {
        "id": "ybEqDo175iw7"
      },
      "source": [
        "**Step5**　平均値、最大値、最小値などを確認"
      ]
    },
    {
      "cell_type": "code",
      "metadata": {
        "id": "OYd28LI00GOy",
        "colab": {
          "base_uri": "https://localhost:8080/",
          "height": 297
        },
        "outputId": "b3c783bb-a918-4f17-eeac-d273386739a8"
      },
      "source": [
        "DF.describe()"
      ],
      "execution_count": 6,
      "outputs": [
        {
          "output_type": "execute_result",
          "data": {
            "text/html": [
              "<div>\n",
              "<style scoped>\n",
              "    .dataframe tbody tr th:only-of-type {\n",
              "        vertical-align: middle;\n",
              "    }\n",
              "\n",
              "    .dataframe tbody tr th {\n",
              "        vertical-align: top;\n",
              "    }\n",
              "\n",
              "    .dataframe thead th {\n",
              "        text-align: right;\n",
              "    }\n",
              "</style>\n",
              "<table border=\"1\" class=\"dataframe\">\n",
              "  <thead>\n",
              "    <tr style=\"text-align: right;\">\n",
              "      <th></th>\n",
              "      <th>varA</th>\n",
              "      <th>varB</th>\n",
              "    </tr>\n",
              "  </thead>\n",
              "  <tbody>\n",
              "    <tr>\n",
              "      <th>count</th>\n",
              "      <td>200.000000</td>\n",
              "      <td>200.000000</td>\n",
              "    </tr>\n",
              "    <tr>\n",
              "      <th>mean</th>\n",
              "      <td>0.025771</td>\n",
              "      <td>0.037083</td>\n",
              "    </tr>\n",
              "    <tr>\n",
              "      <th>std</th>\n",
              "      <td>1.006850</td>\n",
              "      <td>1.029864</td>\n",
              "    </tr>\n",
              "    <tr>\n",
              "      <th>min</th>\n",
              "      <td>-2.801946</td>\n",
              "      <td>-3.364918</td>\n",
              "    </tr>\n",
              "    <tr>\n",
              "      <th>25%</th>\n",
              "      <td>-0.544375</td>\n",
              "      <td>-0.759240</td>\n",
              "    </tr>\n",
              "    <tr>\n",
              "      <th>50%</th>\n",
              "      <td>0.084723</td>\n",
              "      <td>0.108739</td>\n",
              "    </tr>\n",
              "    <tr>\n",
              "      <th>75%</th>\n",
              "      <td>0.710630</td>\n",
              "      <td>0.770033</td>\n",
              "    </tr>\n",
              "    <tr>\n",
              "      <th>max</th>\n",
              "      <td>2.596218</td>\n",
              "      <td>2.294457</td>\n",
              "    </tr>\n",
              "  </tbody>\n",
              "</table>\n",
              "</div>"
            ],
            "text/plain": [
              "             varA        varB\n",
              "count  200.000000  200.000000\n",
              "mean     0.025771    0.037083\n",
              "std      1.006850    1.029864\n",
              "min     -2.801946   -3.364918\n",
              "25%     -0.544375   -0.759240\n",
              "50%      0.084723    0.108739\n",
              "75%      0.710630    0.770033\n",
              "max      2.596218    2.294457"
            ]
          },
          "metadata": {
            "tags": []
          },
          "execution_count": 6
        }
      ]
    },
    {
      "cell_type": "markdown",
      "metadata": {
        "id": "aa62724_516_"
      },
      "source": [
        "**Step6**　varAとvarBをそれぞれ２乗して足した値が１未満かどうかを判定（判定結果を id　に入れる）"
      ]
    },
    {
      "cell_type": "code",
      "metadata": {
        "id": "Uy4pPRzi0KRQ"
      },
      "source": [
        "id = DF['varA']**2 + DF['varB']**2 < 1"
      ],
      "execution_count": 7,
      "outputs": []
    },
    {
      "cell_type": "code",
      "metadata": {
        "id": "CrdmV-GR0bjS",
        "colab": {
          "base_uri": "https://localhost:8080/"
        },
        "outputId": "998da4f4-0ceb-4e1b-8197-ca430560c967"
      },
      "source": [
        "id"
      ],
      "execution_count": 8,
      "outputs": [
        {
          "output_type": "execute_result",
          "data": {
            "text/plain": [
              "0      False\n",
              "1       True\n",
              "2       True\n",
              "3      False\n",
              "4      False\n",
              "       ...  \n",
              "195     True\n",
              "196     True\n",
              "197    False\n",
              "198    False\n",
              "199     True\n",
              "Length: 200, dtype: bool"
            ]
          },
          "metadata": {
            "tags": []
          },
          "execution_count": 8
        }
      ]
    },
    {
      "cell_type": "markdown",
      "metadata": {
        "id": "L0IerIWy6P4G"
      },
      "source": [
        "**Step7**　IDという名称の列を作り \"steelblue\"という色の名称を入れる"
      ]
    },
    {
      "cell_type": "code",
      "metadata": {
        "id": "3J4bkRBe0cC1"
      },
      "source": [
        "DF[\"ID\"] = \"steelblue\""
      ],
      "execution_count": 9,
      "outputs": []
    },
    {
      "cell_type": "markdown",
      "metadata": {
        "id": "v9c2EyJy6wQk"
      },
      "source": [
        "**Step8**　idの値がTRUEであるケース（行）だけ、IDの値を\"darkblue\"に置き換える"
      ]
    },
    {
      "cell_type": "code",
      "metadata": {
        "id": "L9Xw_WD30iF_"
      },
      "source": [
        "DF.loc[id==True, \"ID\"] = \"darkblue\""
      ],
      "execution_count": 10,
      "outputs": []
    },
    {
      "cell_type": "markdown",
      "metadata": {
        "id": "rTnF57-t7RNx"
      },
      "source": [
        "**Step9**　IDの値について頻度を計算"
      ]
    },
    {
      "cell_type": "code",
      "metadata": {
        "id": "QHJ37DYu0pqb",
        "colab": {
          "base_uri": "https://localhost:8080/"
        },
        "outputId": "dccdeab9-945b-4ead-eca2-93d43795aa9c"
      },
      "source": [
        "DF[\"ID\"].value_counts()"
      ],
      "execution_count": 11,
      "outputs": [
        {
          "output_type": "execute_result",
          "data": {
            "text/plain": [
              "steelblue    108\n",
              "darkblue      92\n",
              "Name: ID, dtype: int64"
            ]
          },
          "metadata": {
            "tags": []
          },
          "execution_count": 11
        }
      ]
    },
    {
      "cell_type": "markdown",
      "metadata": {
        "id": "nOZUR0WY7cak"
      },
      "source": [
        "**Step10**　散布図を描く（横軸に用いる変数：varA　縦軸に用いる変数：varB　色の名称：ID)"
      ]
    },
    {
      "cell_type": "code",
      "metadata": {
        "id": "h1RQ08wm0zx6",
        "colab": {
          "base_uri": "https://localhost:8080/",
          "height": 265
        },
        "outputId": "06c819f3-12d1-4eb1-deac-7cd573fb2b50"
      },
      "source": [
        "plt.scatter(DF[\"varA\"], DF[\"varB\"],\n",
        "            c=DF[\"ID\"], alpha=0.6, s=70)\n",
        "plt.show()"
      ],
      "execution_count": 12,
      "outputs": [
        {
          "output_type": "display_data",
          "data": {
            "image/png": "[encoded data removed]",
            "text/plain": [
              "<Figure size 432x288 with 1 Axes>"
            ]
          },
          "metadata": {
            "tags": [],
            "needs_background": "light"
          }
        }
      ]
    },
    {
      "cell_type": "markdown",
      "metadata": {
        "id": "72l_jq3_8zOY"
      },
      "source": [
        "\n",
        "\n",
        "---\n",
        "### 可視化ライブラリ：seabornを使って描いてみよう！\n"
      ]
    },
    {
      "cell_type": "code",
      "metadata": {
        "id": "NuqbALUe1DrT"
      },
      "source": [
        "import seaborn as sns"
      ],
      "execution_count": 13,
      "outputs": []
    },
    {
      "cell_type": "code",
      "metadata": {
        "id": "tM464Ae78Ea3",
        "colab": {
          "base_uri": "https://localhost:8080/",
          "height": 279
        },
        "outputId": "cc8354d6-0be9-4b05-b1e9-85351d085bd5"
      },
      "source": [
        "sns.scatterplot(x='varA', y='varB', data=DF, hue= 'ID', palette={'steelblue': 'steelblue',\n",
        "                                                                 'darkblue': 'darkblue'})\n",
        "plt.show()"
      ],
      "execution_count": 17,
      "outputs": [
        {
          "output_type": "display_data",
          "data": {
            "image/png": "[encoded data removed]",
            "text/plain": [
              "<Figure size 432x288 with 1 Axes>"
            ]
          },
          "metadata": {
            "tags": [],
            "needs_background": "light"
          }
        }
      ]
    }
  ]
}