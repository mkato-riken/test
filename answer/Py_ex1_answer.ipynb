{
 "cells": [
  {
   "cell_type": "markdown",
   "metadata": {
    "id": "tj_v6k10-jnL"
   },
   "source": [
    "# 簡単な分析の実行例（Python編）\n",
    "サンプルデータを読み込んで、散布図を書いてみよう！</br>\n",
    "（『[RとPythonで学ぶ実践的データサイエンス&機械学習]( https://www.amazon.co.jp/dp/429710508X/ref=cm_sw_em_r_mt_dp_hXISFbNZQVC16)』より抜粋 p.95）\n"
   ]
  },
  {
   "cell_type": "markdown",
   "metadata": {
    "id": "ehRoNBAo4ioZ"
   },
   "source": [
    "**Step1**　必要なライブラリを読み込む"
   ]
  },
  {
   "cell_type": "markdown",
   "metadata": {},
   "source": [
    "ヒント import （ライブラリ名）as で読み込めます\n",
    "<br>\n",
    "pandas　を　pd　として　matplotlib.pyplotをpltとして読み込んでみましょう"
   ]
  },
  {
   "cell_type": "code",
   "execution_count": 1,
   "metadata": {
    "id": "1PsZdtBTzMzE"
   },
   "outputs": [],
   "source": [
    "import pandas as pd\n",
    "import matplotlib.pyplot as plt"
   ]
  },
  {
   "cell_type": "markdown",
   "metadata": {
    "id": "8FiCuEZj4R5i"
   },
   "source": [
    "**Step2**　CSVファイルを読み込んでデータフレームに格納"
   ]
  },
  {
   "cell_type": "markdown",
   "metadata": {},
   "source": [
    "ヒント　pd.read_csv（\"httpsリンク\", sep=\",\"）でカンマ区切りのファイルを読み込めます"
   ]
  },
  {
   "cell_type": "code",
   "execution_count": 2,
   "metadata": {
    "id": "B9vPCPx-z0p-"
   },
   "outputs": [],
   "source": [
    "DF = pd.read_csv(\"https://raw.githubusercontent.com/mkato-riken/test/main/sample.csv\", sep = \",\")"
   ]
  },
  {
   "cell_type": "markdown",
   "metadata": {
    "id": "TfGORgjO44o-"
   },
   "source": [
    "**Step3**　先頭の６行を確認"
   ]
  },
  {
   "cell_type": "markdown",
   "metadata": {},
   "source": [
    "ヒント　データフレーム名.head(行数)で表示できます"
   ]
  },
  {
   "cell_type": "code",
   "execution_count": 3,
   "metadata": {
    "colab": {
     "base_uri": "https://localhost:8080/",
     "height": 235
    },
    "id": "q2nIn37Pz6gB",
    "outputId": "41f86a79-c30a-4cac-9bfe-c0a63a314dad"
   },
   "outputs": [
    {
     "data": {
      "text/html": [
       "<div>\n",
       "<style scoped>\n",
       "    .dataframe tbody tr th:only-of-type {\n",
       "        vertical-align: middle;\n",
       "    }\n",
       "\n",
       "    .dataframe tbody tr th {\n",
       "        vertical-align: top;\n",
       "    }\n",
       "\n",
       "    .dataframe thead th {\n",
       "        text-align: right;\n",
       "    }\n",
       "</style>\n",
       "<table border=\"1\" class=\"dataframe\">\n",
       "  <thead>\n",
       "    <tr style=\"text-align: right;\">\n",
       "      <th></th>\n",
       "      <th>varA</th>\n",
       "      <th>varB</th>\n",
       "    </tr>\n",
       "  </thead>\n",
       "  <tbody>\n",
       "    <tr>\n",
       "      <th>0</th>\n",
       "      <td>1.092327</td>\n",
       "      <td>0.701387</td>\n",
       "    </tr>\n",
       "    <tr>\n",
       "      <th>1</th>\n",
       "      <td>-0.212361</td>\n",
       "      <td>0.109707</td>\n",
       "    </tr>\n",
       "    <tr>\n",
       "      <th>2</th>\n",
       "      <td>0.850456</td>\n",
       "      <td>0.278144</td>\n",
       "    </tr>\n",
       "    <tr>\n",
       "      <th>3</th>\n",
       "      <td>0.969198</td>\n",
       "      <td>1.292435</td>\n",
       "    </tr>\n",
       "    <tr>\n",
       "      <th>4</th>\n",
       "      <td>2.596218</td>\n",
       "      <td>0.948212</td>\n",
       "    </tr>\n",
       "    <tr>\n",
       "      <th>5</th>\n",
       "      <td>-0.508290</td>\n",
       "      <td>-0.648164</td>\n",
       "    </tr>\n",
       "  </tbody>\n",
       "</table>\n",
       "</div>"
      ],
      "text/plain": [
       "       varA      varB\n",
       "0  1.092327  0.701387\n",
       "1 -0.212361  0.109707\n",
       "2  0.850456  0.278144\n",
       "3  0.969198  1.292435\n",
       "4  2.596218  0.948212\n",
       "5 -0.508290 -0.648164"
      ]
     },
     "execution_count": 3,
     "metadata": {
      "tags": []
     },
     "output_type": "execute_result"
    }
   ],
   "source": [
    "DF.head(6)"
   ]
  },
  {
   "cell_type": "markdown",
   "metadata": {
    "id": "uCpIYpXd5IK2"
   },
   "source": [
    "**Step４**　データ型と行数、列数を確認"
   ]
  },
  {
   "cell_type": "markdown",
   "metadata": {},
   "source": [
    "ヒント　type()でデータ型　.shapeで行列数が確認できます"
   ]
  },
  {
   "cell_type": "code",
   "execution_count": 4,
   "metadata": {
    "colab": {
     "base_uri": "https://localhost:8080/"
    },
    "id": "0Rzjd7gb0Ay5",
    "outputId": "fc4b23b2-c475-4236-a451-c6955325495a"
   },
   "outputs": [
    {
     "data": {
      "text/plain": [
       "pandas.core.frame.DataFrame"
      ]
     },
     "execution_count": 4,
     "metadata": {
      "tags": []
     },
     "output_type": "execute_result"
    }
   ],
   "source": [
    "type(DF)"
   ]
  },
  {
   "cell_type": "code",
   "execution_count": 5,
   "metadata": {
    "colab": {
     "base_uri": "https://localhost:8080/"
    },
    "id": "akxGyi-d0C0v",
    "outputId": "8227476b-cc1b-41ac-fe78-7ac651ec6341"
   },
   "outputs": [
    {
     "data": {
      "text/plain": [
       "(200, 2)"
      ]
     },
     "execution_count": 5,
     "metadata": {
      "tags": []
     },
     "output_type": "execute_result"
    }
   ],
   "source": [
    "DF.shape"
   ]
  },
  {
   "cell_type": "markdown",
   "metadata": {
    "id": "ybEqDo175iw7"
   },
   "source": [
    "**Step5**　平均値、最大値、最小値などを確認"
   ]
  },
  {
   "cell_type": "markdown",
   "metadata": {},
   "source": [
    "ヒント　.describe()を使ってみましょう"
   ]
  },
  {
   "cell_type": "code",
   "execution_count": 6,
   "metadata": {
    "colab": {
     "base_uri": "https://localhost:8080/",
     "height": 297
    },
    "id": "OYd28LI00GOy",
    "outputId": "b3c783bb-a918-4f17-eeac-d273386739a8"
   },
   "outputs": [
    {
     "data": {
      "text/html": [
       "<div>\n",
       "<style scoped>\n",
       "    .dataframe tbody tr th:only-of-type {\n",
       "        vertical-align: middle;\n",
       "    }\n",
       "\n",
       "    .dataframe tbody tr th {\n",
       "        vertical-align: top;\n",
       "    }\n",
       "\n",
       "    .dataframe thead th {\n",
       "        text-align: right;\n",
       "    }\n",
       "</style>\n",
       "<table border=\"1\" class=\"dataframe\">\n",
       "  <thead>\n",
       "    <tr style=\"text-align: right;\">\n",
       "      <th></th>\n",
       "      <th>varA</th>\n",
       "      <th>varB</th>\n",
       "    </tr>\n",
       "  </thead>\n",
       "  <tbody>\n",
       "    <tr>\n",
       "      <th>count</th>\n",
       "      <td>200.000000</td>\n",
       "      <td>200.000000</td>\n",
       "    </tr>\n",
       "    <tr>\n",
       "      <th>mean</th>\n",
       "      <td>0.025771</td>\n",
       "      <td>0.037083</td>\n",
       "    </tr>\n",
       "    <tr>\n",
       "      <th>std</th>\n",
       "      <td>1.006850</td>\n",
       "      <td>1.029864</td>\n",
       "    </tr>\n",
       "    <tr>\n",
       "      <th>min</th>\n",
       "      <td>-2.801946</td>\n",
       "      <td>-3.364918</td>\n",
       "    </tr>\n",
       "    <tr>\n",
       "      <th>25%</th>\n",
       "      <td>-0.544375</td>\n",
       "      <td>-0.759240</td>\n",
       "    </tr>\n",
       "    <tr>\n",
       "      <th>50%</th>\n",
       "      <td>0.084723</td>\n",
       "      <td>0.108739</td>\n",
       "    </tr>\n",
       "    <tr>\n",
       "      <th>75%</th>\n",
       "      <td>0.710630</td>\n",
       "      <td>0.770033</td>\n",
       "    </tr>\n",
       "    <tr>\n",
       "      <th>max</th>\n",
       "      <td>2.596218</td>\n",
       "      <td>2.294457</td>\n",
       "    </tr>\n",
       "  </tbody>\n",
       "</table>\n",
       "</div>"
      ],
      "text/plain": [
       "             varA        varB\n",
       "count  200.000000  200.000000\n",
       "mean     0.025771    0.037083\n",
       "std      1.006850    1.029864\n",
       "min     -2.801946   -3.364918\n",
       "25%     -0.544375   -0.759240\n",
       "50%      0.084723    0.108739\n",
       "75%      0.710630    0.770033\n",
       "max      2.596218    2.294457"
      ]
     },
     "execution_count": 6,
     "metadata": {
      "tags": []
     },
     "output_type": "execute_result"
    }
   ],
   "source": [
    "DF.describe()"
   ]
  },
  {
   "cell_type": "markdown",
   "metadata": {
    "id": "aa62724_516_"
   },
   "source": [
    "**Step6**　varAとvarBをそれぞれ２乗して足した値が１未満かどうかを判定（判定結果を id　に入れる）"
   ]
  },
  {
   "cell_type": "code",
   "execution_count": 7,
   "metadata": {
    "id": "Uy4pPRzi0KRQ"
   },
   "outputs": [],
   "source": [
    "id = DF['varA']**2 + DF['varB']**2 < 1"
   ]
  },
  {
   "cell_type": "code",
   "execution_count": 8,
   "metadata": {
    "colab": {
     "base_uri": "https://localhost:8080/"
    },
    "id": "CrdmV-GR0bjS",
    "outputId": "998da4f4-0ceb-4e1b-8197-ca430560c967"
   },
   "outputs": [
    {
     "data": {
      "text/plain": [
       "0      False\n",
       "1       True\n",
       "2       True\n",
       "3      False\n",
       "4      False\n",
       "       ...  \n",
       "195     True\n",
       "196     True\n",
       "197    False\n",
       "198    False\n",
       "199     True\n",
       "Length: 200, dtype: bool"
      ]
     },
     "execution_count": 8,
     "metadata": {
      "tags": []
     },
     "output_type": "execute_result"
    }
   ],
   "source": [
    "id"
   ]
  }
 ],
 "metadata": {
  "colab": {
   "collapsed_sections": [],
   "name": "Py-ex1.ipynb のコピー",
   "provenance": []
  },
  "kernelspec": {
   "display_name": "Python 3",
   "language": "python",
   "name": "python3"
  },
  "language_info": {
   "codemirror_mode": {
    "name": "ipython",
    "version": 3
   },
   "file_extension": ".py",
   "mimetype": "text/x-python",
   "name": "python",
   "nbconvert_exporter": "python",
   "pygments_lexer": "ipython3",
   "version": "3.9.2"
  }
 },
 "nbformat": 4,
 "nbformat_minor": 4
}
