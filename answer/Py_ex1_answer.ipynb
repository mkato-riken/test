{
  "nbformat": 4,
  "nbformat_minor": 0,
  "metadata": {
    "colab": {
      "name": "Py-ex1_2021.ipynb のコピー",
      "provenance": [],
      "collapsed_sections": []
    },
    "kernelspec": {
      "display_name": "Python 3",
      "language": "python",
      "name": "python3"
    },
    "language_info": {
      "codemirror_mode": {
        "name": "ipython",
        "version": 3
      },
      "file_extension": ".py",
      "mimetype": "text/x-python",
      "name": "python",
      "nbconvert_exporter": "python",
      "pygments_lexer": "ipython3",
      "version": "3.9.2"
    }
  },
  "cells": [
    {
      "cell_type": "markdown",
      "metadata": {
        "id": "tj_v6k10-jnL"
      },
      "source": [
        "# 簡単な分析の実行例（Python編）\n",
        "サンプルデータを読み込んで新しいデータを格納してみよう！</br>\n",
        "（『[RとPythonで学ぶ実践的データサイエンス&機械学習]( https://www.amazon.co.jp/dp/429710508X/ref=cm_sw_em_r_mt_dp_hXISFbNZQVC16)』より抜粋）\n",
        "<br>\n",
        "講義資料 p20-26 プログラミングの基礎知識　Python　参照"
      ]
    },
    {
      "cell_type": "markdown",
      "metadata": {
        "id": "ehRoNBAo4ioZ"
      },
      "source": [
        "**Step1**　必要なライブラリを読み込む"
      ]
    },
    {
      "cell_type": "markdown",
      "metadata": {
        "id": "KRMcSA4DPk_8"
      },
      "source": [
        "ヒント import （ライブラリ名）as で読み込めます\n",
        "<br>\n",
        "pandas　を　pd　として読み込んでみましょう（講義資料p25）"
      ]
    },
    {
      "cell_type": "code",
      "metadata": {
        "id": "2E2kaWTGP58E"
      },
      "source": [
        "import pandas as pd"
      ],
      "execution_count": 1,
      "outputs": []
    },
    {
      "cell_type": "markdown",
      "metadata": {
        "id": "8FiCuEZj4R5i"
      },
      "source": [
        "**Step2**　CSVファイルを読み込んでデータフレームに格納"
      ]
    },
    {
      "cell_type": "markdown",
      "metadata": {
        "id": "Y2hHvEotQNQQ"
      },
      "source": [
        "ヒント　pd.read_csv（\"httpsリンク\", sep=\",\"）でカンマ区切りのファイルを読み込めます（講義資料p25）"
      ]
    },
    {
      "cell_type": "code",
      "metadata": {
        "id": "4utR-Syza2LX"
      },
      "source": [
        "DF = pd.read_csv(\"https://raw.githubusercontent.com/mkato-riken/test/main/sample.csv\", sep = \",\")"
      ],
      "execution_count": 2,
      "outputs": []
    },
    {
      "cell_type": "markdown",
      "metadata": {
        "id": "TfGORgjO44o-"
      },
      "source": [
        "**Step3**　先頭の６行を確認"
      ]
    },
    {
      "cell_type": "markdown",
      "metadata": {
        "id": "Qs-tXW-PQVhN"
      },
      "source": [
        "ヒント　データフレーム名.iloc[行,列]で表示できます（講義資料p26）"
      ]
    },
    {
      "cell_type": "code",
      "metadata": {
        "id": "K7jZHCJRa26o",
        "outputId": "5171bd26-9d7d-47fe-e55c-87da0303cb2e",
        "colab": {
          "base_uri": "https://localhost:8080/",
          "height": 235
        }
      },
      "source": [
        "DF[:6]"
      ],
      "execution_count": 4,
      "outputs": [
        {
          "output_type": "execute_result",
          "data": {
            "text/html": [
              "<div>\n",
              "<style scoped>\n",
              "    .dataframe tbody tr th:only-of-type {\n",
              "        vertical-align: middle;\n",
              "    }\n",
              "\n",
              "    .dataframe tbody tr th {\n",
              "        vertical-align: top;\n",
              "    }\n",
              "\n",
              "    .dataframe thead th {\n",
              "        text-align: right;\n",
              "    }\n",
              "</style>\n",
              "<table border=\"1\" class=\"dataframe\">\n",
              "  <thead>\n",
              "    <tr style=\"text-align: right;\">\n",
              "      <th></th>\n",
              "      <th>varA</th>\n",
              "      <th>varB</th>\n",
              "    </tr>\n",
              "  </thead>\n",
              "  <tbody>\n",
              "    <tr>\n",
              "      <th>0</th>\n",
              "      <td>1.092327</td>\n",
              "      <td>0.701387</td>\n",
              "    </tr>\n",
              "    <tr>\n",
              "      <th>1</th>\n",
              "      <td>-0.212361</td>\n",
              "      <td>0.109707</td>\n",
              "    </tr>\n",
              "    <tr>\n",
              "      <th>2</th>\n",
              "      <td>0.850456</td>\n",
              "      <td>0.278144</td>\n",
              "    </tr>\n",
              "    <tr>\n",
              "      <th>3</th>\n",
              "      <td>0.969198</td>\n",
              "      <td>1.292435</td>\n",
              "    </tr>\n",
              "    <tr>\n",
              "      <th>4</th>\n",
              "      <td>2.596218</td>\n",
              "      <td>0.948212</td>\n",
              "    </tr>\n",
              "    <tr>\n",
              "      <th>5</th>\n",
              "      <td>-0.508290</td>\n",
              "      <td>-0.648164</td>\n",
              "    </tr>\n",
              "  </tbody>\n",
              "</table>\n",
              "</div>"
            ],
            "text/plain": [
              "       varA      varB\n",
              "0  1.092327  0.701387\n",
              "1 -0.212361  0.109707\n",
              "2  0.850456  0.278144\n",
              "3  0.969198  1.292435\n",
              "4  2.596218  0.948212\n",
              "5 -0.508290 -0.648164"
            ]
          },
          "metadata": {},
          "execution_count": 4
        }
      ]
    },
    {
      "cell_type": "markdown",
      "metadata": {
        "id": "uCpIYpXd5IK2"
      },
      "source": [
        "**Step４**　データ型と行数、列数を確認"
      ]
    },
    {
      "cell_type": "markdown",
      "metadata": {
        "id": "V0ZliyLDQaA-"
      },
      "source": [
        "ヒント　type()でデータ型　.shapeで行列数が確認できます（講義資料p22、p25）"
      ]
    },
    {
      "cell_type": "code",
      "metadata": {
        "id": "RY0DjXYTa3cL",
        "outputId": "0ff98f7b-2164-4bc5-bb40-ff5589140bc5",
        "colab": {
          "base_uri": "https://localhost:8080/"
        }
      },
      "source": [
        "#データ型\n",
        "print(type(DF))\n",
        "#行列数\n",
        "print(DF.shape)"
      ],
      "execution_count": 8,
      "outputs": [
        {
          "output_type": "stream",
          "name": "stdout",
          "text": [
            "<class 'pandas.core.frame.DataFrame'>\n",
            "(200, 2)\n"
          ]
        }
      ]
    },
    {
      "cell_type": "markdown",
      "metadata": {
        "id": "ybEqDo175iw7"
      },
      "source": [
        "**Step5**　列ごとの最大値、最小値を確認"
      ]
    },
    {
      "cell_type": "markdown",
      "metadata": {
        "id": "CNDkIRRHQeIe"
      },
      "source": [
        "ヒント　.関数()で算出できます（講義資料p26）"
      ]
    },
    {
      "cell_type": "code",
      "metadata": {
        "id": "8J1ys_Hta344",
        "outputId": "021aa7c5-db33-49bd-f05f-7f9a007d9869",
        "colab": {
          "base_uri": "https://localhost:8080/"
        }
      },
      "source": [
        "#最大値\n",
        "print(DF.max())\n",
        "#最小値\n",
        "print(DF.min())"
      ],
      "execution_count": 15,
      "outputs": [
        {
          "output_type": "stream",
          "name": "stdout",
          "text": [
            "varA    2.596218\n",
            "varB    2.294457\n",
            "dtype: float64\n",
            "varA   -2.801946\n",
            "varB   -3.364918\n",
            "dtype: float64\n"
          ]
        }
      ]
    },
    {
      "cell_type": "markdown",
      "metadata": {
        "id": "aa62724_516_"
      },
      "source": [
        "**Step6**　varAとvarBをそれぞれ２乗して足した値が１未満かどうかを判定（判定結果を idに入れる）"
      ]
    },
    {
      "cell_type": "markdown",
      "metadata": {
        "id": "8L-z5j07gG8h"
      },
      "source": [
        "ヒント　列の値どうしで演算し、結果を新しい列に格納します（講義資料p20、p26）"
      ]
    },
    {
      "cell_type": "code",
      "metadata": {
        "id": "OqpAayDJgG8h",
        "outputId": "73bf01dc-737a-44cb-be11-64618404d428",
        "colab": {
          "base_uri": "https://localhost:8080/"
        }
      },
      "source": [
        "id = DF['varA']**2 + DF['varB']**2 < 1\n",
        "id"
      ],
      "execution_count": 17,
      "outputs": [
        {
          "output_type": "execute_result",
          "data": {
            "text/plain": [
              "0      False\n",
              "1       True\n",
              "2       True\n",
              "3      False\n",
              "4      False\n",
              "       ...  \n",
              "195     True\n",
              "196     True\n",
              "197    False\n",
              "198    False\n",
              "199     True\n",
              "Length: 200, dtype: bool"
            ]
          },
          "metadata": {},
          "execution_count": 17
        }
      ]
    }
  ]
}