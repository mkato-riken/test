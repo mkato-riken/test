{
 "cells": [
  {
   "cell_type": "markdown",
   "metadata": {
    "id": "3ny6dmUznpwA"
   },
   "source": [
    "# 簡単な分析の実行例（R編）\n",
    "サンプルデータを読み込んで、散布図を書いてみよう！</br>\n",
    "（『[RとPythonで学ぶ実践的データサイエンス&機械学習]( https://www.amazon.co.jp/dp/429710508X/ref=cm_sw_em_r_mt_dp_hXISFbNZQVC16)』より抜粋 p.94）"
   ]
  },
  {
   "cell_type": "markdown",
   "metadata": {
    "id": "9BTr350SoHqt"
   },
   "source": [
    "**Step1**　ライブラリ　ggplot2 を読み込む\n",
    "<br>\n",
    "ヒント　library()でライブラリの読み込みができます"
   ]
  },
  {
   "cell_type": "code",
   "execution_count": null,
   "metadata": {
    "id": "SZ75ZhGb9DiM"
   },
   "outputs": [],
   "source": []
  },
  {
   "cell_type": "markdown",
   "metadata": {
    "id": "lYKRqMkwobvY"
   },
   "source": [
    "**Step2**　CSVファイルを読み込んでデータフレーム(DF)に格納\n",
    "<br>\n",
    "ヒント　read.table（\"httpsリンク\", sep=\",\", header = T）でカンマ区切りのヘッダー付きファイルを読み込みます"
   ]
  },
  {
   "cell_type": "code",
   "execution_count": null,
   "metadata": {
    "id": "1seaIRWd9EUm"
   },
   "outputs": [],
   "source": []
  },
  {
   "cell_type": "markdown",
   "metadata": {
    "id": "WSNz0ZZjos__"
   },
   "source": [
    "**Step3**　先頭の６行を確認"
   ]
  },
  {
   "cell_type": "code",
   "execution_count": null,
   "metadata": {
    "colab": {
     "base_uri": "https://localhost:8080/",
     "height": 204
    },
    "id": "u4Wvo_qK9E8c",
    "outputId": "17e537fa-fb5e-4366-ba02-2ecae278e168"
   },
   "outputs": [],
   "source": []
  },
  {
   "cell_type": "markdown",
   "metadata": {
    "id": "LmEmlTLipiIu"
   },
   "source": [
    "**Step４**　行数、列数を確認\n",
    "<br>\n",
    "str関数で行数列数が確認できます"
   ]
  },
  {
   "cell_type": "code",
   "execution_count": null,
   "metadata": {
    "colab": {
     "base_uri": "https://localhost:8080/"
    },
    "id": "FWPBkrEa9Fmk",
    "outputId": "19291a43-098d-42f6-ac37-d9bf93479eed"
   },
   "outputs": [],
   "source": []
  },
  {
   "cell_type": "markdown",
   "metadata": {
    "id": "7DzF_-vmqBKE"
   },
   "source": [
    "**Step5**　平均値、中央値、最大値、最小値を確認\n",
    "<br>\n",
    "ヒント　summary関数を使ってみましょう"
   ]
  },
  {
   "cell_type": "code",
   "execution_count": null,
   "metadata": {
    "colab": {
     "base_uri": "https://localhost:8080/",
     "height": 136
    },
    "id": "8Rao8ruu9GOU",
    "outputId": "dbd1d62e-2d14-4aec-90f3-ae29961ee765"
   },
   "outputs": [],
   "source": []
  },
  {
   "cell_type": "markdown",
   "metadata": {
    "id": "qiH_whfXqIQ0"
   },
   "source": [
    "**Step6**　varAとvarBをそれぞれ２乗して足した値が１未満かどうかを判定\n",
    "<br>\n",
    "（判定結果を id　に格納する）"
   ]
  },
  {
   "cell_type": "code",
   "execution_count": null,
   "metadata": {
    "id": "73k2RYa09G4O"
   },
   "outputs": [],
   "source": []
  },
  {
   "cell_type": "markdown",
   "metadata": {
    "id": "1yTwcfP3qMQc"
   },
   "source": [
    "**Step7**　IDという名称の列を作り \"steelblue\"という色の名称を格納する"
   ]
  },
  {
   "cell_type": "code",
   "execution_count": null,
   "metadata": {
    "id": "tdau248_9Hbr"
   },
   "outputs": [],
   "source": []
  },
  {
   "cell_type": "markdown",
   "metadata": {
    "id": "_jUicY-gqSdd"
   },
   "source": [
    "**Step8**　idの値がTRUEであるケース（行）だけ、IDの値を\"darkblue\"に置き換える\n",
    "<br>\n",
    "ヒント　データフレーム名＄列名[条件]に”置き換えたい値”を格納します　"
   ]
  },
  {
   "cell_type": "code",
   "execution_count": null,
   "metadata": {
    "id": "da-PGfms9H-g"
   },
   "outputs": [],
   "source": []
  },
  {
   "cell_type": "markdown",
   "metadata": {
    "id": "J71iZQYjqg2Y"
   },
   "source": [
    "**Step9**　IDの値について頻度を計算\n",
    "<br>\n",
    "ヒント　table関数を使うと頻度を出せます"
   ]
  },
  {
   "cell_type": "code",
   "execution_count": null,
   "metadata": {
    "colab": {
     "base_uri": "https://localhost:8080/",
     "height": 68
    },
    "id": "v1CsUczl9Iga",
    "outputId": "7253dede-ce4d-4800-e022-4501cd745b23"
   },
   "outputs": [],
   "source": []
  },
  {
   "cell_type": "markdown",
   "metadata": {
    "id": "RVq58URWqmfj"
   },
   "source": [
    "**Step10**　散布図を描く（横軸に用いる変数：varA　縦軸に用いる変数：varB　色の名称：ID)\n",
    "<br>\n",
    "ヒント　散布図はggplot() +geom_point(）で書けます\n",
    "<br>\n",
    "　geom_point()の（）内に、aes(x, y)で変数,color=色の名称, alpha=0.6, size=4　で条件指定します"
   ]
  },
  {
   "cell_type": "code",
   "execution_count": null,
   "metadata": {
    "colab": {
     "base_uri": "https://localhost:8080/",
     "height": 437
    },
    "id": "f5NGEdFc9I_D",
    "outputId": "2cd19878-670f-4eb9-e104-8e180a0ba1c6"
   },
   "outputs": [],
   "source": []
  },
  {
   "cell_type": "code",
   "execution_count": null,
   "metadata": {
    "id": "d7pjX6FXptEr"
   },
   "outputs": [],
   "source": []
  },
  {
   "cell_type": "markdown",
   "metadata": {},
   "source": [
    "**お題①**　1から自分の学籍番号のアルファベット以外の数字をくっつけた数（xとします）\n",
    "<br>\n",
    "（20m1293dという人だったら201293）までの7の倍数の和を求めよう\n",
    "<br>\n",
    "ヒント　forループによる繰り返しと条件分岐を使います\n",
    "<br>\n",
    "（applyファミリーを使うこともできます）"
   ]
  },
  {
   "cell_type": "code",
   "execution_count": null,
   "metadata": {},
   "outputs": [],
   "source": []
  },
  {
   "cell_type": "markdown",
   "metadata": {
    "tags": []
   },
   "source": [
    "**お題②**（お帰り問題　※ここまでできたら先に退出可とします）\n",
    "<br>\n",
    "1からxまでに存在する素数の個数を数えましょう"
   ]
  },
  {
   "cell_type": "code",
   "execution_count": null,
   "metadata": {},
   "outputs": [],
   "source": []
  }
 ],
 "metadata": {
  "colab": {
   "collapsed_sections": [],
   "name": "R-ex1_answer.ipynb",
   "provenance": []
  },
  "kernelspec": {
   "display_name": "R",
   "language": "R",
   "name": "ir"
  },
  "language_info": {
   "codemirror_mode": "r",
   "file_extension": ".r",
   "mimetype": "text/x-r-source",
   "name": "R",
   "pygments_lexer": "r",
   "version": "4.1.1"
  }
 },
 "nbformat": 4,
 "nbformat_minor": 4
}
